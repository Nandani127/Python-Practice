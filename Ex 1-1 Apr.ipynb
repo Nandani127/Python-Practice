{
 "cells": [
  {
   "cell_type": "markdown",
   "metadata": {},
   "source": [
    "### Python Program to add two numbers"
   ]
  },
  {
   "cell_type": "code",
   "execution_count": 1,
   "metadata": {},
   "outputs": [
    {
     "name": "stdout",
     "output_type": "stream",
     "text": [
      "2\n",
      "4\n",
      "6\n"
     ]
    }
   ],
   "source": [
    "a = int(input())\n",
    "b = int(input())\n",
    "sum = a + b\n",
    "print(sum)"
   ]
  },
  {
   "cell_type": "markdown",
   "metadata": {},
   "source": [
    "### Maximum of two numbers in Python"
   ]
  },
  {
   "cell_type": "code",
   "execution_count": 3,
   "metadata": {},
   "outputs": [
    {
     "name": "stdout",
     "output_type": "stream",
     "text": [
      "4\n",
      "7\n",
      "b\n"
     ]
    }
   ],
   "source": [
    "a = int(input())\n",
    "b = int(input())\n",
    "if a > b:\n",
    "    print('a is greater')\n",
    "elif b > a:\n",
    "    print('b is greater')\n",
    "else:\n",
    "    print(\"Both are Eual\")"
   ]
  },
  {
   "cell_type": "code",
   "execution_count": 7,
   "metadata": {},
   "outputs": [
    {
     "name": "stdout",
     "output_type": "stream",
     "text": [
      "3\n",
      "7\n",
      "b\n"
     ]
    }
   ],
   "source": [
    "a = int(input())\n",
    "b = int(input())\n",
    "print('a') if a>b else print('b')"
   ]
  },
  {
   "cell_type": "markdown",
   "metadata": {},
   "source": [
    "### Python program for factorial of a number"
   ]
  },
  {
   "cell_type": "code",
   "execution_count": 13,
   "metadata": {},
   "outputs": [
    {
     "name": "stdout",
     "output_type": "stream",
     "text": [
      "6\n",
      "720\n"
     ]
    }
   ],
   "source": [
    "# Using recursion\n",
    "\n",
    "def factorial(n):\n",
    "    if n==0 or n==1:\n",
    "        return 1\n",
    "    else:\n",
    "        return n*factorial(n-1)\n",
    "\n",
    "if __name__ == \"__main__\":\n",
    "    n = int(input())\n",
    "    fact = factorial(n)\n",
    "    print(fact)"
   ]
  },
  {
   "cell_type": "code",
   "execution_count": 12,
   "metadata": {},
   "outputs": [
    {
     "name": "stdout",
     "output_type": "stream",
     "text": [
      "6\n",
      "720\n"
     ]
    }
   ],
   "source": [
    "# Using for loop\n",
    "\n",
    "def factorial(n):\n",
    "    fact = 1\n",
    "    for i in range(1,n+1):\n",
    "        fact = fact*i\n",
    "    return fact\n",
    "\n",
    "if __name__ == \"__main__\":\n",
    "    n = int(input())\n",
    "    fact = factorial(n)\n",
    "    print(fact)"
   ]
  },
  {
   "cell_type": "code",
   "execution_count": 14,
   "metadata": {},
   "outputs": [
    {
     "name": "stdout",
     "output_type": "stream",
     "text": [
      "6\n",
      "720\n"
     ]
    }
   ],
   "source": [
    "# Using while loop\n",
    "\n",
    "def factorial(n):\n",
    "    fact = 1\n",
    "    i = 1\n",
    "    while i <= n:\n",
    "        fact = fact*i\n",
    "        i += 1\n",
    "    return fact\n",
    "\n",
    "if __name__ == \"__main__\":\n",
    "    n = int(input())\n",
    "    fact = factorial(n)\n",
    "    print(fact)"
   ]
  },
  {
   "cell_type": "markdown",
   "metadata": {},
   "source": [
    "### Python Program for Simple Interest"
   ]
  },
  {
   "cell_type": "code",
   "execution_count": 16,
   "metadata": {},
   "outputs": [
    {
     "name": "stdout",
     "output_type": "stream",
     "text": [
      "1856\n",
      "2\n",
      "1.5\n",
      "SImple Interest: 55.680\n"
     ]
    }
   ],
   "source": [
    "principal = float(input())\n",
    "time = float(input())\n",
    "rate = float(input())\n",
    "\n",
    "s_i = (principal*time*rate)/100\n",
    "print(\"SImple Interest: {:.3f}\".format(s_i))"
   ]
  },
  {
   "cell_type": "markdown",
   "metadata": {},
   "source": [
    "### Python Program for Compound Interest"
   ]
  },
  {
   "cell_type": "code",
   "execution_count": 6,
   "metadata": {},
   "outputs": [
    {
     "name": "stdout",
     "output_type": "stream",
     "text": [
      "1856\n",
      "2\n",
      "1.5\n",
      "compund interest: 1912.098\n"
     ]
    }
   ],
   "source": [
    "principal = float(input())\n",
    "time = float(input())\n",
    "rate = float(input())\n",
    "\n",
    "amount = principal * ((1 + (rate/100)) ** time)\n",
    "print(\"compund interest: {:.3f}\".format(amount))"
   ]
  },
  {
   "cell_type": "markdown",
   "metadata": {},
   "source": [
    "### Python Program to check Armstrong number"
   ]
  },
  {
   "cell_type": "code",
   "execution_count": 10,
   "metadata": {},
   "outputs": [
    {
     "name": "stdout",
     "output_type": "stream",
     "text": [
      "123\n",
      "False\n"
     ]
    }
   ],
   "source": [
    "def armstrong(number):\n",
    "    sum = 0\n",
    "    num = str(number)\n",
    "    n = len(num)\n",
    "    for i in num:\n",
    "        sum = sum + int(i)**n\n",
    "        \n",
    "    if sum == number:\n",
    "        return True\n",
    "    else:\n",
    "        return False\n",
    "    \n",
    "if __name__ == \"__main__\":\n",
    "    n = int(input())\n",
    "    print(armstrong(n))"
   ]
  },
  {
   "cell_type": "markdown",
   "metadata": {},
   "source": [
    "### Program to find area of circle"
   ]
  },
  {
   "cell_type": "code",
   "execution_count": 11,
   "metadata": {},
   "outputs": [
    {
     "name": "stdout",
     "output_type": "stream",
     "text": [
      "4\n",
      "50.24\n"
     ]
    }
   ],
   "source": [
    "r = float(input())\n",
    "area = 3.14 * (r**2)\n",
    "\n",
    "print(area)"
   ]
  },
  {
   "cell_type": "markdown",
   "metadata": {},
   "source": [
    "### Program to find all prime numbers in an interval"
   ]
  },
  {
   "cell_type": "code",
   "execution_count": 17,
   "metadata": {},
   "outputs": [
    {
     "name": "stdout",
     "output_type": "stream",
     "text": [
      "15\n",
      "30\n",
      "[17, 19, 23, 29]\n"
     ]
    }
   ],
   "source": [
    "def prime(n):\n",
    "    if n == 0 or n == 1:\n",
    "        return False\n",
    "    \n",
    "    for j in range (2, n//2+1):\n",
    "        if n%j == 0:\n",
    "            return False\n",
    "    return True\n",
    "\n",
    "if __name__ == \"__main__\":\n",
    "    start = int(input())\n",
    "    end = int(input())\n",
    "    primes = [i for i in range(start,end+1) if prime(i) == True]\n",
    "    print(primes)"
   ]
  },
  {
   "cell_type": "markdown",
   "metadata": {},
   "source": [
    "### Program to check whether a number is prime or not"
   ]
  },
  {
   "cell_type": "code",
   "execution_count": 19,
   "metadata": {},
   "outputs": [
    {
     "name": "stdout",
     "output_type": "stream",
     "text": [
      "13\n",
      "True\n"
     ]
    }
   ],
   "source": [
    "def is_prime(n):\n",
    "    for i in range(2, n//2+1):\n",
    "        if n%i == 0:\n",
    "            return False\n",
    "    return True\n",
    "\n",
    "if __name__ == \"__main__\":\n",
    "    num = int(input())\n",
    "    print(is_prime(num))"
   ]
  },
  {
   "cell_type": "markdown",
   "metadata": {},
   "source": [
    "### Program to print nth fibonacci number"
   ]
  },
  {
   "cell_type": "code",
   "execution_count": 21,
   "metadata": {},
   "outputs": [
    {
     "name": "stdout",
     "output_type": "stream",
     "text": [
      "4\n",
      "2\n"
     ]
    }
   ],
   "source": [
    "# 0, 1, 1, 2, 3, 5, 8, 13...\n",
    "\n",
    "# Recursive\n",
    "def fibonacci(n):\n",
    "    if n == 1:\n",
    "        return 0\n",
    "    if n == 2:\n",
    "        return 1\n",
    "    return fibonacci(n-1) + fibonacci(n-2)\n",
    "\n",
    "n = int(input())\n",
    "print(fibonacci(n))"
   ]
  }
 ],
 "metadata": {
  "kernelspec": {
   "display_name": "Python 3",
   "language": "python",
   "name": "python3"
  },
  "language_info": {
   "codemirror_mode": {
    "name": "ipython",
    "version": 3
   },
   "file_extension": ".py",
   "mimetype": "text/x-python",
   "name": "python",
   "nbconvert_exporter": "python",
   "pygments_lexer": "ipython3",
   "version": "3.8.3"
  }
 },
 "nbformat": 4,
 "nbformat_minor": 4
}
