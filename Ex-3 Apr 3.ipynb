{
 "cells": [
  {
   "cell_type": "markdown",
   "metadata": {},
   "source": [
    "### Python Program to check if given array is Monotonic"
   ]
  },
  {
   "cell_type": "code",
   "execution_count": 13,
   "metadata": {},
   "outputs": [
    {
     "name": "stdout",
     "output_type": "stream",
     "text": [
      "7 6 3 2 1\n",
      "Monotonic decreasing\n"
     ]
    }
   ],
   "source": [
    "# An array A is monotone increasing if for all i <= j, A[i] <= A[j]. \n",
    "# An array A is monotone decreasing if for all i <= j, A[i] >= A[j].\n",
    "# Return “True” if the given array A is monotonic else return “False” \n",
    "\n",
    "def monotonic_inc(arr):\n",
    "    flag = True\n",
    "    # monotone increasing\n",
    "    for i in range(0,len(arr)-1):\n",
    "        if arr[i] > arr[i+1]:\n",
    "            flag = False\n",
    "            break\n",
    "    return flag\n",
    "\n",
    "def monotonic_dec(arr):\n",
    "    flag = True\n",
    "    # monotone decreasing\n",
    "    for i in range(0, len(arr)-1):\n",
    "        if arr[i] < arr[i+1]:\n",
    "            flag = False\n",
    "            break\n",
    "    return flag\n",
    "\n",
    "if __name__ == \"__main__\":\n",
    "    arr = list(map(int, input().split()))\n",
    "    res1 = monotonic_inc(arr)\n",
    "    res2 = monotonic_dec(arr)\n",
    "    if res1 == True:\n",
    "        print(\"Monotonic increasing\") \n",
    "    elif res2 == True:\n",
    "        print(\"Monotonic decreasing\") \n",
    "    else:\n",
    "        print(\"Not monotonic\")"
   ]
  },
  {
   "cell_type": "code",
   "execution_count": 17,
   "metadata": {},
   "outputs": [
    {
     "name": "stdout",
     "output_type": "stream",
     "text": [
      "2 1 3\n",
      "False\n"
     ]
    }
   ],
   "source": [
    "def monotonic(arr):\n",
    "    return (all (arr[i] <= arr[i+1] for i in range(0, len(arr)-1)) or\n",
    "            (all (arr[i] >= arr[i+1] for i in range(0, len(arr)-1))))\n",
    "\n",
    "arr = list(map(int, input().split()))\n",
    "print(monotonic(arr))"
   ]
  },
  {
   "cell_type": "markdown",
   "metadata": {},
   "source": [
    "### Python program to interchange first and last elements in a list"
   ]
  },
  {
   "cell_type": "code",
   "execution_count": 18,
   "metadata": {},
   "outputs": [
    {
     "name": "stdout",
     "output_type": "stream",
     "text": [
      "1 4 2 6 4\n",
      "[4, 4, 2, 6, 1]\n"
     ]
    }
   ],
   "source": [
    "arr = list(map(int, input().split()))\n",
    "arr[0], arr[len(arr)-1] = arr[len(arr)-1], arr[0]\n",
    "print(arr)"
   ]
  },
  {
   "cell_type": "markdown",
   "metadata": {},
   "source": [
    "### Python program to swap two elements in a list"
   ]
  },
  {
   "cell_type": "code",
   "execution_count": 23,
   "metadata": {},
   "outputs": [
    {
     "name": "stdout",
     "output_type": "stream",
     "text": [
      "1 5 3 2 5 2\n",
      "2\n",
      "5\n",
      "[1, 5, 2, 2, 5, 3]\n"
     ]
    }
   ],
   "source": [
    "arr = list(map(int, input().split()))\n",
    "# Indexes of elements to swap\n",
    "i = int(input())\n",
    "j = int(input())\n",
    "\n",
    "if not((i >= len(arr) or i < 0) or (j >= len(arr) or j < 0)):\n",
    "    arr[i], arr[j] = arr[j], arr[i]\n",
    "    print(arr)"
   ]
  },
  {
   "cell_type": "markdown",
   "metadata": {},
   "source": [
    "### Ways to find length of list"
   ]
  },
  {
   "cell_type": "code",
   "execution_count": 24,
   "metadata": {},
   "outputs": [
    {
     "name": "stdout",
     "output_type": "stream",
     "text": [
      "1 5 3 2 5 2\n",
      "6\n"
     ]
    }
   ],
   "source": [
    "arr = list(map(int, input().split()))\n",
    "length = 0\n",
    "for i in arr:\n",
    "    length += 1\n",
    "    \n",
    "print(length)"
   ]
  },
  {
   "cell_type": "markdown",
   "metadata": {},
   "source": [
    "### Ways to check if element exists in list"
   ]
  },
  {
   "cell_type": "code",
   "execution_count": 26,
   "metadata": {},
   "outputs": [
    {
     "name": "stdout",
     "output_type": "stream",
     "text": [
      "1 5 3 2 5 2\n",
      "6\n",
      "False\n"
     ]
    }
   ],
   "source": [
    "arr = list(map(int, input().split()))\n",
    "ele = int(input())\n",
    "found = 0\n",
    "for i in arr:\n",
    "    if ele == i:\n",
    "        print(True)\n",
    "        found = 1\n",
    "        break\n",
    "if found == 0:\n",
    "    print(False)\n",
    "    \n",
    "# if ele in arr:\n",
    "#    print(True)"
   ]
  },
  {
   "cell_type": "markdown",
   "metadata": {},
   "source": [
    "### Different ways to clear a list in Python"
   ]
  },
  {
   "cell_type": "code",
   "execution_count": 47,
   "metadata": {},
   "outputs": [
    {
     "name": "stdout",
     "output_type": "stream",
     "text": [
      "1 5 3 2 5 2\n",
      "3\n",
      "[1, 5, 2, 5, 2]\n"
     ]
    }
   ],
   "source": [
    "arr = list(map(int, input().split()))\n",
    "ele = int(input())\n",
    "\n",
    "i = arr.index(ele)\n",
    "new = arr[:i] + arr[i+1:] \n",
    "print(new)"
   ]
  },
  {
   "cell_type": "markdown",
   "metadata": {},
   "source": [
    "### Reversing a List"
   ]
  },
  {
   "cell_type": "code",
   "execution_count": 42,
   "metadata": {},
   "outputs": [
    {
     "name": "stdout",
     "output_type": "stream",
     "text": [
      "1 2 3 5\n",
      "[5, 3, 2, 1]\n"
     ]
    }
   ],
   "source": [
    "if __name__ == \"__main__\":\n",
    "    arr = list(map(int, input().split()))\n",
    "    rev = []\n",
    "    rev = arr[::-1]\n",
    "    print(rev)"
   ]
  },
  {
   "cell_type": "markdown",
   "metadata": {},
   "source": [
    "### Python program to find sum of elements in list"
   ]
  },
  {
   "cell_type": "code",
   "execution_count": 43,
   "metadata": {},
   "outputs": [
    {
     "name": "stdout",
     "output_type": "stream",
     "text": [
      "1 2 3 5\n",
      "11\n"
     ]
    }
   ],
   "source": [
    "arr = list(map(int, input().split()))\n",
    "sum = 0\n",
    "for i in arr:\n",
    "    sum = sum + i\n",
    "print(sum)"
   ]
  },
  {
   "cell_type": "markdown",
   "metadata": {},
   "source": [
    "### Multiply all numbers in the list"
   ]
  },
  {
   "cell_type": "code",
   "execution_count": 44,
   "metadata": {},
   "outputs": [
    {
     "name": "stdout",
     "output_type": "stream",
     "text": [
      "1 2 3 5\n",
      "30\n"
     ]
    }
   ],
   "source": [
    "arr = list(map(int, input().split()))\n",
    "mul = 1\n",
    "for i in arr:\n",
    "    mul = mul * i\n",
    "print(mul)"
   ]
  },
  {
   "cell_type": "markdown",
   "metadata": {},
   "source": [
    "### Python program to find smallest number in a list"
   ]
  },
  {
   "cell_type": "code",
   "execution_count": 45,
   "metadata": {},
   "outputs": [
    {
     "name": "stdout",
     "output_type": "stream",
     "text": [
      "1 5 3 2 5 2\n",
      "1\n"
     ]
    }
   ],
   "source": [
    "def smallest(arr):\n",
    "    small = arr[0]\n",
    "    for i in arr:\n",
    "        if i < small:\n",
    "            small = i\n",
    "            \n",
    "    return small\n",
    "if __name__ == \"__main__\":\n",
    "    arr = list(map(int, input().split()))\n",
    "    print(smallest(arr))"
   ]
  }
 ],
 "metadata": {
  "kernelspec": {
   "display_name": "Python 3",
   "language": "python",
   "name": "python3"
  },
  "language_info": {
   "codemirror_mode": {
    "name": "ipython",
    "version": 3
   },
   "file_extension": ".py",
   "mimetype": "text/x-python",
   "name": "python",
   "nbconvert_exporter": "python",
   "pygments_lexer": "ipython3",
   "version": "3.8.3"
  }
 },
 "nbformat": 4,
 "nbformat_minor": 4
}
