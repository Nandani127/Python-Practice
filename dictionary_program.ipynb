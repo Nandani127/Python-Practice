{
 "cells": [
  {
   "cell_type": "markdown",
   "metadata": {},
   "source": [
    "## Creating a dictionary\n",
    "\n",
    "Given a json file named data.json, containing some words and their meaning. The user inputs any word and the task is to find out the meaning of that word from the json file satisfying all constraints\n",
    "\n",
    "- Even if user enters in jumbled case\n",
    "- Even if user enters in upper case\n",
    "- Even if user enters in title case\n",
    "- Even if user misspelled the word\n",
    "\n",
    "The program should be able to give appropriate output"
   ]
  },
  {
   "cell_type": "code",
   "execution_count": 1,
   "metadata": {},
   "outputs": [],
   "source": [
    "import json"
   ]
  },
  {
   "cell_type": "code",
   "execution_count": 2,
   "metadata": {},
   "outputs": [],
   "source": [
    "from difflib import get_close_matches"
   ]
  },
  {
   "cell_type": "code",
   "execution_count": 3,
   "metadata": {},
   "outputs": [],
   "source": [
    "# Loading the data\n",
    "\n",
    "data = json.load(open(\"data.json\"))"
   ]
  },
  {
   "cell_type": "markdown",
   "metadata": {},
   "source": [
    "#### Function to find whether the input word is present in the dictionary\n",
    "\n",
    "If yes - find the maening of that word <br> If no - Give appropriate message"
   ]
  },
  {
   "cell_type": "code",
   "execution_count": 19,
   "metadata": {
    "scrolled": true
   },
   "outputs": [
    {
     "name": "stdout",
     "output_type": "stream",
     "text": [
      "Enter the word you want to search: fog\n",
      "Water droplets or, rarely, ice crystals suspended in the air in sufficient concentration to reduce visibility appreciably.\n",
      "To hide from view.\n"
     ]
    }
   ],
   "source": [
    "def translate(word):\n",
    "    \n",
    "    # Checking if the word is present in all lower case\n",
    "    if word.lower() in data:\n",
    "        return data[word.lower()]\n",
    "    \n",
    "    # Checking if the word is present in all upper case\n",
    "    elif word.upper() in data:\n",
    "        return data[word.upper()]\n",
    "    \n",
    "    # Checking if the word is present in title case\n",
    "    elif word.title() in data:\n",
    "        return data[word.title()]\n",
    "    \n",
    "    # if user has misspelled the word, then finding the closest match for that word present in\n",
    "    # dictionary\n",
    "     \n",
    "    close_match = get_close_matches(word, data.keys())\n",
    "    \n",
    "    # If close match is present in dictionary, then ask user if he meant to say close match\n",
    "    # We want only one closest match, that's why indexing only the first element of the list\n",
    "    if len(close_match) > 0:\n",
    "        print(\"Did you mean %s instead?\" %close_match[0])\n",
    "        decide = input(\"Enter y for yes and n for no: \")\n",
    "        \n",
    "        # If yes, then return meaning for closest match\n",
    "        if decide == \"y\":\n",
    "            return data[close_match[0]]\n",
    "        \n",
    "        elif decide == \"n\":\n",
    "            return (\"You entered wrong word\")\n",
    "        \n",
    "        else:\n",
    "            return (\"You have entered wrong choice. Please enter y or n\")\n",
    "    \n",
    "    # If input word is not present in the dictionary\n",
    "    else:\n",
    "        print(\"You entered wrong word\")\n",
    "        \n",
    "word = input(\"Enter the word you want to search: \")\n",
    "output = translate(word)\n",
    "\n",
    "# If there are more than one meaning of any word, then printing them separately\n",
    "if type(output) == list:\n",
    "    for item in output:\n",
    "        print(item)\n",
    "        \n",
    "else:\n",
    "    print(output)"
   ]
  }
 ],
 "metadata": {
  "kernelspec": {
   "display_name": "Python 3",
   "language": "python",
   "name": "python3"
  },
  "language_info": {
   "codemirror_mode": {
    "name": "ipython",
    "version": 3
   },
   "file_extension": ".py",
   "mimetype": "text/x-python",
   "name": "python",
   "nbconvert_exporter": "python",
   "pygments_lexer": "ipython3",
   "version": "3.8.3"
  }
 },
 "nbformat": 4,
 "nbformat_minor": 4
}
