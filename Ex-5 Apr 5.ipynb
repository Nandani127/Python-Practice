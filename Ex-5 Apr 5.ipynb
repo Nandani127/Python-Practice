{
 "cells": [
  {
   "cell_type": "markdown",
   "metadata": {},
   "source": [
    "### Python program to print all negative numbers in a range"
   ]
  },
  {
   "cell_type": "code",
   "execution_count": 2,
   "metadata": {},
   "outputs": [
    {
     "name": "stdout",
     "output_type": "stream",
     "text": [
      "-23 -12\n",
      "[-23, -22, -21, -20, -19, -18, -17, -16, -15, -14, -13, -12]\n"
     ]
    }
   ],
   "source": [
    "start, end = map(int, input().split())\n",
    "neg = []\n",
    "for i in range(start, end+1):\n",
    "    if i < 0:\n",
    "        neg.append(i)\n",
    "        \n",
    "print(neg)"
   ]
  },
  {
   "cell_type": "markdown",
   "metadata": {},
   "source": [
    "### Remove multiple elements from a list "
   ]
  },
  {
   "cell_type": "code",
   "execution_count": 5,
   "metadata": {},
   "outputs": [
    {
     "name": "stdout",
     "output_type": "stream",
     "text": [
      "1 2 2 3 5 3 6 4\n",
      "[1, 2, 3, 4, 5, 6]\n"
     ]
    }
   ],
   "source": [
    "arr = list(map(int, input().split()))\n",
    "print(list(set(arr)))"
   ]
  },
  {
   "cell_type": "markdown",
   "metadata": {},
   "source": [
    "### Remove empty list from list"
   ]
  },
  {
   "cell_type": "code",
   "execution_count": 9,
   "metadata": {},
   "outputs": [
    {
     "name": "stdout",
     "output_type": "stream",
     "text": [
      "['st', 3, 45, -5, [1, 2, 3]]\n"
     ]
    }
   ],
   "source": [
    "arr = [[], 'st', 3, 45, -5, [1,2,3]]\n",
    "\n",
    "for i in arr:\n",
    "    if type(i) == type(arr) and len(i) == 0:\n",
    "        arr.remove(i)\n",
    "        \n",
    "print(arr)"
   ]
  },
  {
   "cell_type": "markdown",
   "metadata": {},
   "source": [
    "### Cloning or Copying a list"
   ]
  },
  {
   "cell_type": "code",
   "execution_count": 1,
   "metadata": {},
   "outputs": [
    {
     "name": "stdout",
     "output_type": "stream",
     "text": [
      "1 2 2 3 5 3 6 4\n",
      "[1, 2, 2, 3, 5, 3, 6, 4]\n"
     ]
    }
   ],
   "source": [
    "arr = list(map(int, input().split()))\n",
    "\n",
    "new = arr\n",
    "\n",
    "print(new)"
   ]
  },
  {
   "cell_type": "markdown",
   "metadata": {},
   "source": [
    "### Count occurrences of an element in a list"
   ]
  },
  {
   "cell_type": "code",
   "execution_count": 2,
   "metadata": {},
   "outputs": [
    {
     "name": "stdout",
     "output_type": "stream",
     "text": [
      "1 2 2 3 5 3 6 4\n",
      "3\n",
      "2\n"
     ]
    }
   ],
   "source": [
    "arr = list(map(int, input().split()))\n",
    "ele = int(input())\n",
    "count = 0\n",
    "\n",
    "for i in arr:\n",
    "    if i == ele:\n",
    "        count += 1\n",
    "        \n",
    "print(count)"
   ]
  },
  {
   "cell_type": "markdown",
   "metadata": {},
   "source": [
    "### Program to print duplicates from a list of integers"
   ]
  },
  {
   "cell_type": "code",
   "execution_count": 10,
   "metadata": {},
   "outputs": [
    {
     "name": "stdout",
     "output_type": "stream",
     "text": [
      "1 2 2 3 5 3 6 4\n",
      "[2, 3]\n"
     ]
    }
   ],
   "source": [
    "arr = list(map(int, input().split()))\n",
    "dup = []\n",
    "for i in arr:\n",
    "    c = arr.count(i)\n",
    "    if c > 1:\n",
    "        dup.append(i)\n",
    "        \n",
    "print(list(set(dup)))"
   ]
  },
  {
   "cell_type": "markdown",
   "metadata": {},
   "source": [
    "### Python program to find Cumulative sum of a list"
   ]
  },
  {
   "cell_type": "code",
   "execution_count": 14,
   "metadata": {},
   "outputs": [
    {
     "name": "stdout",
     "output_type": "stream",
     "text": [
      "4 10 15 18 20\n",
      "[4, 14, 29, 47, 67]\n"
     ]
    }
   ],
   "source": [
    "arr = list(map(int, input().split()))\n",
    "cumsum = []\n",
    "cumsum.append(arr[0])\n",
    "for i in range(1, len(arr)):\n",
    "    cumsum.append(cumsum[i-1] + arr[i])\n",
    "    \n",
    "print(cumsum)"
   ]
  },
  {
   "cell_type": "markdown",
   "metadata": {},
   "source": [
    "### Sum of number digits in List"
   ]
  },
  {
   "cell_type": "code",
   "execution_count": 6,
   "metadata": {},
   "outputs": [
    {
     "name": "stdout",
     "output_type": "stream",
     "text": [
      "37 16 48 54\n",
      "[10, 7, 12, 9]\n"
     ]
    }
   ],
   "source": [
    "arr = list(map(int, input().split()))\n",
    "res = []\n",
    "\n",
    "for ele in arr:\n",
    "    sum = 0\n",
    "    for digit in str(ele):\n",
    "        sum += int(digit)\n",
    "    res.append(sum)\n",
    "\n",
    "print(res)"
   ]
  }
 ],
 "metadata": {
  "kernelspec": {
   "display_name": "Python 3",
   "language": "python",
   "name": "python3"
  },
  "language_info": {
   "codemirror_mode": {
    "name": "ipython",
    "version": 3
   },
   "file_extension": ".py",
   "mimetype": "text/x-python",
   "name": "python",
   "nbconvert_exporter": "python",
   "pygments_lexer": "ipython3",
   "version": "3.8.3"
  }
 },
 "nbformat": 4,
 "nbformat_minor": 4
}
