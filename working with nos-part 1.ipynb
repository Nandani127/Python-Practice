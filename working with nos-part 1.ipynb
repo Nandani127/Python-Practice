{
 "cells": [
  {
   "cell_type": "code",
   "execution_count": 27,
   "metadata": {},
   "outputs": [
    {
     "name": "stdout",
     "output_type": "stream",
     "text": [
      "1223\n",
      "8\n"
     ]
    }
   ],
   "source": [
    "# Python Program to Find Sum Of Digits Of a Number\n",
    "\n",
    "n = int(input())\n",
    "sum = 0\n",
    "while n>0:\n",
    "  i = n%10\n",
    "  sum += i\n",
    "  n = n//10\n",
    "\n",
    "print(sum)"
   ]
  },
  {
   "cell_type": "code",
   "execution_count": 28,
   "metadata": {},
   "outputs": [
    {
     "name": "stdout",
     "output_type": "stream",
     "text": [
      "123\n",
      "321\n"
     ]
    }
   ],
   "source": [
    "# Python Program to find the Reverse of a given number​\n",
    "\n",
    "n = int(input())\n",
    "reverse = 0\n",
    "while n>0:\n",
    "  remainder = n%10\n",
    "  reverse = (reverse*10) + remainder\n",
    "  n = n//10\n",
    "\n",
    "print(reverse)"
   ]
  },
  {
   "cell_type": "code",
   "execution_count": 10,
   "metadata": {},
   "outputs": [
    {
     "name": "stdout",
     "output_type": "stream",
     "text": [
      "20 12\n",
      "32\n"
     ]
    }
   ],
   "source": [
    "# Python program to add two numbers\n",
    "a,b = map(int,input().split())\n",
    "print(a+b)"
   ]
  },
  {
   "cell_type": "code",
   "execution_count": 15,
   "metadata": {},
   "outputs": [
    {
     "name": "stdout",
     "output_type": "stream",
     "text": [
      "23 12\n",
      "a is max\n"
     ]
    }
   ],
   "source": [
    "# Maximum of two numbers in Python\n",
    "a,b = map(int,input().split())\n",
    "\n",
    "if a>b:\n",
    "    print(\"a is max\")\n",
    "elif a<b:\n",
    "    print(\"b is max\")\n",
    "else:\n",
    "    print(\"Both eual\")"
   ]
  },
  {
   "cell_type": "code",
   "execution_count": 35,
   "metadata": {},
   "outputs": [
    {
     "name": "stdout",
     "output_type": "stream",
     "text": [
      "5\n",
      "120\n"
     ]
    }
   ],
   "source": [
    "# Python Program for factorial of a number\n",
    "\n",
    "n = int(input())\n",
    "fact =1 \n",
    "i=n\n",
    "if i==0:\n",
    "    fact = 1\n",
    "else:\n",
    "    while i>0:\n",
    "        fact = fact * i\n",
    "        i -= 1\n",
    "    \n",
    "print(fact)"
   ]
  },
  {
   "cell_type": "code",
   "execution_count": 21,
   "metadata": {},
   "outputs": [
    {
     "data": {
      "text/plain": [
       "120"
      ]
     },
     "execution_count": 21,
     "metadata": {},
     "output_type": "execute_result"
    }
   ],
   "source": [
    "def factorial(n):\n",
    "    if n==0 or n==1:\n",
    "        return 1\n",
    "    else:\n",
    "        return n * factorial(n-1)\n",
    "    \n",
    "factorial(5)"
   ]
  },
  {
   "cell_type": "code",
   "execution_count": 38,
   "metadata": {},
   "outputs": [
    {
     "name": "stdout",
     "output_type": "stream",
     "text": [
      "1000 2 15\n",
      "si = 300.00 and amount = 1300.00\n"
     ]
    }
   ],
   "source": [
    "# Python Program for simple interest\n",
    "p, t, r = map(float,input().split())\n",
    "\n",
    "si = (p*t*r)/100\n",
    "print(\"si = {:.2f} and amount = {:.2f}\".format(si,si+p))"
   ]
  },
  {
   "cell_type": "code",
   "execution_count": 40,
   "metadata": {},
   "outputs": [
    {
     "name": "stdout",
     "output_type": "stream",
     "text": [
      "1000 2 15\n",
      "ci = 322.50 and amount = 1322.50\n"
     ]
    }
   ],
   "source": [
    "# Python Program for compound interest\n",
    "\n",
    "p, t, r = map(float,input().split())\n",
    "amt = p*((1+(r/100))**t)\n",
    "ci = amt-p\n",
    "print(\"ci = {:.2f} and amount = {:.2f}\".format(ci,amt))"
   ]
  },
  {
   "cell_type": "code",
   "execution_count": 47,
   "metadata": {},
   "outputs": [
    {
     "name": "stdout",
     "output_type": "stream",
     "text": [
      "1634\n",
      "True\n"
     ]
    }
   ],
   "source": [
    "# Python Program to check Armstrong Number\n",
    "\n",
    "def armstrong(n):\n",
    "    sum = 0\n",
    "    l = len(str(n))\n",
    "    for i in str(n):                       \n",
    "        sum += int(i)**l\n",
    "    return sum == n\n",
    "\n",
    "n = int(input())        \n",
    "print(armstrong(n))"
   ]
  },
  {
   "cell_type": "code",
   "execution_count": 51,
   "metadata": {},
   "outputs": [
    {
     "name": "stdout",
     "output_type": "stream",
     "text": [
      "5\n",
      "78.54\n"
     ]
    }
   ],
   "source": [
    "# Python Program for Program to find area of a circle\n",
    "from math import pi\n",
    "\n",
    "r = float(input())\n",
    "area = pi * r*r\n",
    "print(\"{:.2f}\".format(area))"
   ]
  },
  {
   "cell_type": "code",
   "execution_count": 62,
   "metadata": {},
   "outputs": [
    {
     "data": {
      "text/plain": [
       "True"
      ]
     },
     "execution_count": 62,
     "metadata": {},
     "output_type": "execute_result"
    }
   ],
   "source": [
    "# Python program to check whether a number is Prime or not\n",
    "\n",
    "def prime(n):\n",
    "    if n ==0 or n==1:\n",
    "        return False\n",
    "    for i in range(2, n//2):\n",
    "        if n % i == 0:\n",
    "            return False\n",
    "        \n",
    "    else:\n",
    "        return True\n",
    "\n",
    "prime(53)"
   ]
  },
  {
   "cell_type": "code",
   "execution_count": 76,
   "metadata": {},
   "outputs": [
    {
     "name": "stdout",
     "output_type": "stream",
     "text": [
      "2 15\n",
      "[2, 3, 4, 5, 7, 11, 13]\n"
     ]
    }
   ],
   "source": [
    "# Python program to print all Prime numbers in an Interval\n",
    "\n",
    "def prime(n):\n",
    "    if n ==0 or n==1 :\n",
    "        return False\n",
    "    for i in range(2,n//2):\n",
    "        if n%i == 0:\n",
    "            return False\n",
    "    else:\n",
    "        return True\n",
    "    \n",
    "l, h = map(int,input().split())\n",
    "primes = [i for i in range(l, h+1) if prime(i)==True]\n",
    "print(primes)"
   ]
  },
  {
   "cell_type": "code",
   "execution_count": 177,
   "metadata": {},
   "outputs": [
    {
     "name": "stdout",
     "output_type": "stream",
     "text": [
      "8\n",
      "0 1 1 2 3 5 8 13 "
     ]
    }
   ],
   "source": [
    "# Fibonacci sequence\n",
    "\n",
    "n = int(input())\n",
    "a = 0\n",
    "b = 1\n",
    "print(a, b, end=\" \")\n",
    "i = 3\n",
    "while i <=n:\n",
    "    fib = a+b\n",
    "    a = b\n",
    "    b = fib\n",
    "    print(fib, end=\" \")\n",
    "    i+=1"
   ]
  },
  {
   "cell_type": "code",
   "execution_count": 181,
   "metadata": {},
   "outputs": [
    {
     "name": "stdout",
     "output_type": "stream",
     "text": [
      "8\n",
      "[0, 1, 1, 2, 3, 5, 8, 13]\n"
     ]
    }
   ],
   "source": [
    "n = int(input())\n",
    "l = [0,1]\n",
    "for i in range(2,n):\n",
    "    l.append(l[i-1] + l[i-2])\n",
    "print(l)"
   ]
  },
  {
   "cell_type": "code",
   "execution_count": 86,
   "metadata": {},
   "outputs": [
    {
     "name": "stdout",
     "output_type": "stream",
     "text": [
      "10\n",
      "34\n"
     ]
    }
   ],
   "source": [
    "# Python Program for n-th Fibonacci number - 0,1,1,2,3,5,8,13,21,34...\n",
    "\n",
    "n = int(input())\n",
    "if n ==1:\n",
    "    print(0)\n",
    "if n == 2:\n",
    "    print(1)\n",
    "else:\n",
    "    a = 0\n",
    "    b = 1\n",
    "    i = 3\n",
    "    while i <= n:\n",
    "        fib = a+b\n",
    "        a = b\n",
    "        b = fib\n",
    "        i += 1\n",
    "    print(fib)"
   ]
  },
  {
   "cell_type": "code",
   "execution_count": 87,
   "metadata": {},
   "outputs": [
    {
     "name": "stdout",
     "output_type": "stream",
     "text": [
      "34\n"
     ]
    }
   ],
   "source": [
    "def fibonacci(n):\n",
    "    if n==1:\n",
    "        return 0\n",
    "    if n==2:\n",
    "        return 1\n",
    "    else:\n",
    "        return fibonacci(n-1) + fibonacci(n-2)\n",
    "    \n",
    "print(fibonacci(10))"
   ]
  },
  {
   "cell_type": "code",
   "execution_count": 163,
   "metadata": {},
   "outputs": [
    {
     "name": "stdout",
     "output_type": "stream",
     "text": [
      "8\n",
      "True\n"
     ]
    }
   ],
   "source": [
    "# Python Program for How to check if a given number is Fibonacci number?\n",
    "\n",
    "import math\n",
    "def perfect_square(n):\n",
    "    i = int(math.sqrt(n))\n",
    "    return i*i == n\n",
    "\n",
    "def is_fibonacci(n):\n",
    "    x1 = (5*(math.pow(n,2)))+4\n",
    "    x2 = (5*(n**2))-4\n",
    "    return perfect_square(x1) or perfect_square(x2)\n",
    "       \n",
    "n = int(input())\n",
    "print(is_fibonacci(n))"
   ]
  },
  {
   "cell_type": "code",
   "execution_count": 173,
   "metadata": {},
   "outputs": [
    {
     "name": "stdout",
     "output_type": "stream",
     "text": [
      "5 2\n",
      "610\n"
     ]
    }
   ],
   "source": [
    "# Python Program for k’th multiple of a number in Fibonacci Series\n",
    "\n",
    "n,k = map(int,input().split())\n",
    "a = 0\n",
    "b = 1\n",
    "fib = a + b\n",
    "found = 0\n",
    "l = 0\n",
    "while not found:\n",
    "    if fib % n == 0:\n",
    "        l += 1\n",
    "        if l==k+1:\n",
    "            print(fib)\n",
    "            found = 1\n",
    "            break\n",
    "    a = b\n",
    "    b = fib\n",
    "    fib = a+b"
   ]
  },
  {
   "cell_type": "code",
   "execution_count": 107,
   "metadata": {},
   "outputs": [
    {
     "name": "stdout",
     "output_type": "stream",
     "text": [
      "c\n",
      "99\n"
     ]
    }
   ],
   "source": [
    "# Program to print ASCII Value of a character\n",
    "\n",
    "c = input()\n",
    "print(ord(c))"
   ]
  },
  {
   "cell_type": "code",
   "execution_count": 108,
   "metadata": {},
   "outputs": [
    {
     "name": "stdout",
     "output_type": "stream",
     "text": [
      "10\n",
      "385\n"
     ]
    }
   ],
   "source": [
    "# Python Program for Sum of squares of first n natural numbers\n",
    "\n",
    "def sos(n):\n",
    "    sum = 0\n",
    "    for i in range(1,n+1):\n",
    "        sum += i**2\n",
    "    return sum\n",
    "\n",
    "n = int(input())\n",
    "print(sos(n))"
   ]
  },
  {
   "cell_type": "code",
   "execution_count": 111,
   "metadata": {},
   "outputs": [
    {
     "name": "stdout",
     "output_type": "stream",
     "text": [
      "10\n",
      "385\n"
     ]
    }
   ],
   "source": [
    "n = int(input())\n",
    "sum = (n*(n+1)*(2*n+1))//6\n",
    "print(sum)"
   ]
  },
  {
   "cell_type": "code",
   "execution_count": 112,
   "metadata": {},
   "outputs": [
    {
     "name": "stdout",
     "output_type": "stream",
     "text": [
      "10\n",
      "3025\n"
     ]
    }
   ],
   "source": [
    "# Python Program for cube sum of first n natural numbers\n",
    "\n",
    "def soc(n):\n",
    "    sum = 0\n",
    "    for i in range(1,n+1):\n",
    "        sum += i**3\n",
    "    return sum\n",
    "\n",
    "n = int(input())\n",
    "print(soc(n))"
   ]
  },
  {
   "cell_type": "code",
   "execution_count": 113,
   "metadata": {},
   "outputs": [
    {
     "name": "stdout",
     "output_type": "stream",
     "text": [
      "10\n",
      "3025.0\n"
     ]
    }
   ],
   "source": [
    "n = int(input())\n",
    "soc =( n*(n+1)/2 ) **2\n",
    "print(soc)"
   ]
  },
  {
   "cell_type": "code",
   "execution_count": 115,
   "metadata": {},
   "outputs": [
    {
     "name": "stdout",
     "output_type": "stream",
     "text": [
      "1 2 3 4 5 6 7 8 9 10\n",
      "55\n"
     ]
    }
   ],
   "source": [
    "# Python Program to find sum of array\n",
    "\n",
    "l = list(map(int,input().split()))\n",
    "sum =0\n",
    "for i in l:\n",
    "    sum += i\n",
    "print(sum)"
   ]
  },
  {
   "cell_type": "code",
   "execution_count": 116,
   "metadata": {},
   "outputs": [
    {
     "name": "stdout",
     "output_type": "stream",
     "text": [
      "1 2 3 4 5\n",
      "5\n"
     ]
    }
   ],
   "source": [
    "# Python Program to find largest element in an array\n",
    "\n",
    "l = list(map(int,input().split()))\n",
    "largest = l[0]\n",
    "for i in l:\n",
    "    if i > largest:\n",
    "        largest = i\n",
    "print(largest)"
   ]
  },
  {
   "cell_type": "code",
   "execution_count": 138,
   "metadata": {},
   "outputs": [
    {
     "name": "stdout",
     "output_type": "stream",
     "text": [
      "1 2 3 4 5 6 7\n",
      "2\n",
      "[3, 4, 5, 6, 7, 1, 2]\n"
     ]
    }
   ],
   "source": [
    "# Python Program for array rotation\n",
    "\n",
    "l = list(map(int,input().split()))\n",
    "d = int(input())            # no. of elements for rotation\n",
    "\n",
    "new = l[d:] + l[:d]\n",
    "print(new)"
   ]
  },
  {
   "cell_type": "code",
   "execution_count": 156,
   "metadata": {},
   "outputs": [
    {
     "name": "stdout",
     "output_type": "stream",
     "text": [
      "1 2 3 4 5 6 7\n",
      "3\n",
      "[4, 5, 6, 7, 1, 2, 3]\n"
     ]
    }
   ],
   "source": [
    "# Python Program for Reversal algorithm for array rotation\n",
    "\n",
    "def reverse(l):\n",
    "    l = l[::-1]\n",
    "    return l\n",
    "\n",
    "def rotate(l,d):\n",
    "    l1 = reverse(l[:d])\n",
    "    l2 = reverse(l[d:])\n",
    "    l = l1+l2\n",
    "    l = reverse(l[:])\n",
    "    print(l)\n",
    "    \n",
    "l = list(map(int,input().split()))\n",
    "d = int(input())\n",
    "rotate(l,d)"
   ]
  },
  {
   "cell_type": "code",
   "execution_count": 143,
   "metadata": {},
   "outputs": [
    {
     "name": "stdout",
     "output_type": "stream",
     "text": [
      "1 2 3 4 5\n",
      "[3, 4, 5, 1, 2]\n"
     ]
    }
   ],
   "source": [
    "# Python Program to Split the array and add the first part to the end\n",
    "\n",
    "l = list(map(int,input().split()))\n",
    "i = len(l)//2\n",
    "\n",
    "a = l[i:] + l[:i]\n",
    "print(a)"
   ]
  },
  {
   "cell_type": "code",
   "execution_count": 154,
   "metadata": {},
   "outputs": [
    {
     "name": "stdout",
     "output_type": "stream",
     "text": [
      "4 3 2 1\n",
      "Monotone decreasing\n"
     ]
    }
   ],
   "source": [
    "# Python Program to check if given array is Monotonic\n",
    "\n",
    "l = list(map(int,input().split()))\n",
    "flag = 0\n",
    "for i in range(0, len(l)-1):       \n",
    "    if l[i] > l[i+1]:             # monotone increasing - a[i] is always <= a[i+1]\n",
    "        break\n",
    "else:\n",
    "    flag = 1\n",
    "    \n",
    "for i in range(0, len(l)-1):     \n",
    "    if l[i] < l[i+1]:            # monotone decreasing - a[i] is always >= a[j]\n",
    "        break\n",
    "else:\n",
    "    flag = 2\n",
    "    \n",
    "if flag==1:\n",
    "    print(\"Monotone Increasing\")\n",
    "elif flag == 2:\n",
    "    print(\"Monotone decreasing\")\n",
    "else:\n",
    "    print(\"None\")"
   ]
  },
  {
   "cell_type": "code",
   "execution_count": 136,
   "metadata": {},
   "outputs": [
    {
     "name": "stdout",
     "output_type": "stream",
     "text": [
      "1 2 3 4 5\n",
      "[5, 2, 3, 4, 1]\n"
     ]
    }
   ],
   "source": [
    "# Python program to interchange first and last elements in a list\n",
    "\n",
    "l = list(map(int,input().split()))\n",
    "l[0], l[len(l)-1] = l[len(l)-1], l[0]\n",
    "print(l)"
   ]
  },
  {
   "cell_type": "code",
   "execution_count": 137,
   "metadata": {},
   "outputs": [
    {
     "name": "stdout",
     "output_type": "stream",
     "text": [
      "12 3 4 5 6 7 1\n",
      "2 4\n",
      "[12, 3, 6, 5, 4, 7, 1]\n"
     ]
    }
   ],
   "source": [
    "# Python program to swap two elements in a list\n",
    "\n",
    "l = list(map(int,input().split()))\n",
    "\n",
    "i,j = map(int,input().split())     # indexes to split\n",
    "if i >=0 and j<len(l):\n",
    "    l[i], l[j] = l[j], l[i]\n",
    "print(l)"
   ]
  },
  {
   "cell_type": "code",
   "execution_count": 135,
   "metadata": {},
   "outputs": [
    {
     "name": "stdout",
     "output_type": "stream",
     "text": [
      "1 2 3 4\n",
      "4\n"
     ]
    }
   ],
   "source": [
    "# Ways to find length of list\n",
    "\n",
    "l = list(map(int,input().split()))\n",
    "length = 0\n",
    "for i in l:\n",
    "    length += 1\n",
    "print(length)"
   ]
  },
  {
   "cell_type": "code",
   "execution_count": 134,
   "metadata": {},
   "outputs": [
    {
     "name": "stdout",
     "output_type": "stream",
     "text": [
      "2 3 4\n",
      "4\n",
      "True\n"
     ]
    }
   ],
   "source": [
    "# Ways to check if element exists in list\n",
    "\n",
    "l = list(map(int,input().split()))\n",
    "x = int(input())\n",
    "if x in l:\n",
    "    print(True)\n",
    "else:\n",
    "    print(False)"
   ]
  },
  {
   "cell_type": "code",
   "execution_count": 127,
   "metadata": {},
   "outputs": [
    {
     "name": "stdout",
     "output_type": "stream",
     "text": [
      "1 2 3 4 5\n",
      "[1, 2, 3, 4, 5]\n"
     ]
    }
   ],
   "source": [
    "# Different ways to clear a list in Python\n",
    "\n",
    "l = list(map(int,input().split()))\n",
    "print(l)"
   ]
  },
  {
   "cell_type": "code",
   "execution_count": 128,
   "metadata": {},
   "outputs": [
    {
     "ename": "NameError",
     "evalue": "name 'l' is not defined",
     "output_type": "error",
     "traceback": [
      "\u001b[1;31m---------------------------------------------------------------------------\u001b[0m",
      "\u001b[1;31mNameError\u001b[0m                                 Traceback (most recent call last)",
      "\u001b[1;32m<ipython-input-128-10e89c79a89c>\u001b[0m in \u001b[0;36m<module>\u001b[1;34m\u001b[0m\n\u001b[0;32m      1\u001b[0m \u001b[1;32mdel\u001b[0m\u001b[1;33m(\u001b[0m\u001b[0ml\u001b[0m\u001b[1;33m)\u001b[0m\u001b[1;33m\u001b[0m\u001b[1;33m\u001b[0m\u001b[0m\n\u001b[1;32m----> 2\u001b[1;33m \u001b[0mprint\u001b[0m\u001b[1;33m(\u001b[0m\u001b[0ml\u001b[0m\u001b[1;33m)\u001b[0m\u001b[1;33m\u001b[0m\u001b[1;33m\u001b[0m\u001b[0m\n\u001b[0m",
      "\u001b[1;31mNameError\u001b[0m: name 'l' is not defined"
     ]
    }
   ],
   "source": [
    "del(l)        # deleted\n",
    "print(l)"
   ]
  },
  {
   "cell_type": "code",
   "execution_count": 126,
   "metadata": {},
   "outputs": [
    {
     "name": "stdout",
     "output_type": "stream",
     "text": [
      "1 2 3\n",
      "[3, 2, 1]\n"
     ]
    }
   ],
   "source": [
    "# Python | Reversing a List\n",
    "\n",
    "l = list(map(int,input().split()))\n",
    "l = l[::-1]\n",
    "print(l)   "
   ]
  },
  {
   "cell_type": "code",
   "execution_count": 129,
   "metadata": {},
   "outputs": [
    {
     "name": "stdout",
     "output_type": "stream",
     "text": [
      "1 2 3\n",
      "6\n"
     ]
    }
   ],
   "source": [
    "# Python program to find sum of elements in list\n",
    "\n",
    "l = list(map(int,input().split()))\n",
    "sum = 0\n",
    "for i in l:\n",
    "    sum += i\n",
    "print(sum)"
   ]
  },
  {
   "cell_type": "code",
   "execution_count": 131,
   "metadata": {},
   "outputs": [
    {
     "name": "stdout",
     "output_type": "stream",
     "text": [
      "1 2 3 4\n",
      "24\n"
     ]
    }
   ],
   "source": [
    "# Python | Multiply all numbers in the list\n",
    "\n",
    "l = list(map(int,input().split()))\n",
    "product = 1\n",
    "for i in l:\n",
    "    product *= i\n",
    "print(product)"
   ]
  },
  {
   "cell_type": "code",
   "execution_count": 117,
   "metadata": {},
   "outputs": [
    {
     "name": "stdout",
     "output_type": "stream",
     "text": [
      "6 5 1 2 3\n",
      "1\n"
     ]
    }
   ],
   "source": [
    "# Python program to find smallest number in a list\n",
    "\n",
    "l = list(map(int,input().split()))\n",
    "smallest = l[0]\n",
    "for i in range(1, len(l)):\n",
    "    if l[i] < smallest:\n",
    "        smallest = l[i]\n",
    "print(smallest)"
   ]
  },
  {
   "cell_type": "code",
   "execution_count": 2,
   "metadata": {},
   "outputs": [
    {
     "name": "stdout",
     "output_type": "stream",
     "text": [
      "1 3 2 5 4 9 5\n",
      "[1, 2, 3, 4, 5, 5, 9]\n",
      "5\n"
     ]
    }
   ],
   "source": [
    "# Python program to find second largest number in a list\n",
    "\n",
    "l = list(map(int,input().split()))\n",
    "l = sorted(l)\n",
    "print(l)\n",
    "print(l[-2])"
   ]
  },
  {
   "cell_type": "code",
   "execution_count": 9,
   "metadata": {},
   "outputs": [
    {
     "name": "stdout",
     "output_type": "stream",
     "text": [
      "1 2 4 3 9 7 5 7\n",
      "3\n",
      "[1, 2, 3, 4, 5, 7, 9]\n",
      "[9, 7, 5]\n"
     ]
    }
   ],
   "source": [
    "# Python program to find N largest elements from a list\n",
    "\n",
    "l = list(map(int,input().split()))\n",
    "N = int(input())\n",
    "l = sorted(l)\n",
    "l = sorted(list(set(l)))\n",
    "print(l)\n",
    "print(l[-1:N:-1])"
   ]
  },
  {
   "cell_type": "code",
   "execution_count": 10,
   "metadata": {},
   "outputs": [
    {
     "name": "stdout",
     "output_type": "stream",
     "text": [
      "1 2 4 3 9 7 5 7\n",
      "2 4 "
     ]
    }
   ],
   "source": [
    "# Python program to print even numbers in a list\n",
    "\n",
    "l = list(map(int,input().split()))\n",
    "for i in l:\n",
    "    if i%2 == 0:\n",
    "        print(i, end=\" \")"
   ]
  },
  {
   "cell_type": "code",
   "execution_count": 12,
   "metadata": {},
   "outputs": [
    {
     "name": "stdout",
     "output_type": "stream",
     "text": [
      "1 2 4 3 9 7 5 7\n",
      "[1, 3, 9, 7, 5]\n"
     ]
    }
   ],
   "source": [
    "# Python program to print odd numbers in a list\n",
    "\n",
    "l = list(map(int,input().split()))\n",
    "odd = []\n",
    "for i in l:\n",
    "    if not i%2 == 0:\n",
    "        if i not in odd:\n",
    "            odd.append(i)\n",
    "            \n",
    "print(odd)"
   ]
  },
  {
   "cell_type": "code",
   "execution_count": 13,
   "metadata": {},
   "outputs": [
    {
     "name": "stdout",
     "output_type": "stream",
     "text": [
      "23 67\n",
      "24 26 28 30 32 34 36 38 40 42 44 46 48 50 52 54 56 58 60 62 64 66 "
     ]
    }
   ],
   "source": [
    "# Python program to print all even numbers in a range\n",
    "\n",
    "l, h = map(int, input().split())\n",
    "for i in range(l, h+1):\n",
    "    if i % 2 == 0:\n",
    "        print(i, end=\" \")"
   ]
  },
  {
   "cell_type": "code",
   "execution_count": 14,
   "metadata": {},
   "outputs": [
    {
     "name": "stdout",
     "output_type": "stream",
     "text": [
      "23 67\n",
      "23 25 27 29 31 33 35 37 39 41 43 45 47 49 51 53 55 57 59 61 63 65 67 "
     ]
    }
   ],
   "source": [
    "# Python program to print all odd numbers in a range\n",
    "\n",
    "l, h = map(int, input().split())\n",
    "for i in range(l, h+1):\n",
    "    if i % 2 != 0:\n",
    "        print(i, end=' ')"
   ]
  },
  {
   "cell_type": "code",
   "execution_count": 15,
   "metadata": {},
   "outputs": [
    {
     "name": "stdout",
     "output_type": "stream",
     "text": [
      "-1 3 2 0 12 -9\n",
      "3 2 0 12 "
     ]
    }
   ],
   "source": [
    "# Python program to print positive numbers in a list\n",
    "\n",
    "l = list(map(int,input().split()))\n",
    "for i in l:\n",
    "    if i >= 0:\n",
    "        print(i, end=\" \")"
   ]
  },
  {
   "cell_type": "code",
   "execution_count": 16,
   "metadata": {},
   "outputs": [
    {
     "name": "stdout",
     "output_type": "stream",
     "text": [
      "-1 3 2 0 12 -9\n",
      "-1 -9 "
     ]
    }
   ],
   "source": [
    "# Python program to print negative numbers in a list\n",
    "\n",
    "l = list(map(int,input().split()))\n",
    "for i in l:\n",
    "    if i < 0:\n",
    "        print(i, end=\" \")"
   ]
  },
  {
   "cell_type": "code",
   "execution_count": 17,
   "metadata": {
    "scrolled": true
   },
   "outputs": [
    {
     "name": "stdout",
     "output_type": "stream",
     "text": [
      "-12 8\n",
      "0 1 2 3 4 5 6 7 8 "
     ]
    }
   ],
   "source": [
    "# Python program to print all positive numbers in a range\n",
    "\n",
    "l, h = map(int, input().split())\n",
    "for i in range(l , h+1):\n",
    "    if i >= 0:\n",
    "        print(i, end=\" \")"
   ]
  },
  {
   "cell_type": "code",
   "execution_count": 20,
   "metadata": {},
   "outputs": [
    {
     "name": "stdout",
     "output_type": "stream",
     "text": [
      "-9 23\n",
      "-9 -8 -7 -6 -5 -4 -3 -2 -1 "
     ]
    }
   ],
   "source": [
    "# Python program to print all negative numbers in a range\n",
    "\n",
    "l, h = map(int, input().split())\n",
    "\n",
    "for i in range(l , h+1):\n",
    "    if i < 0:\n",
    "        print(i, end=\" \")\n",
    "    else:\n",
    "        break"
   ]
  },
  {
   "cell_type": "code",
   "execution_count": 22,
   "metadata": {},
   "outputs": [
    {
     "name": "stdout",
     "output_type": "stream",
     "text": [
      "1 2 4 3 9 7 5 7 2 3 6\n",
      "[1, 2, 3, 4, 5, 6, 7, 9]\n"
     ]
    }
   ],
   "source": [
    "# Remove multiple elements from a list in Python\n",
    "\n",
    "l = list(map(int, input().split()))\n",
    "print(list(set(l)))"
   ]
  },
  {
   "cell_type": "code",
   "execution_count": 24,
   "metadata": {},
   "outputs": [
    {
     "name": "stdout",
     "output_type": "stream",
     "text": [
      "Before removal [1, 2, [1, 2], 'Hiramani', [], 23.4, []]\n",
      "After removal [1, 2, [1, 2], 'Hiramani', 23.4]\n"
     ]
    }
   ],
   "source": [
    "# Remove empty List from List\n",
    "\n",
    "l = [ 1, 2 , [1,2], 'Hiramani', [], 23.4, []]\n",
    "print(\"Before removal\", l)\n",
    "for i in l:\n",
    "    if type(i) == type(l) and len(i) == 0:\n",
    "        l.remove(i)\n",
    "        \n",
    "print(\"After removal\", l)"
   ]
  },
  {
   "cell_type": "code",
   "execution_count": 31,
   "metadata": {},
   "outputs": [
    {
     "name": "stdout",
     "output_type": "stream",
     "text": [
      "1 2 4 3 9 7 5\n",
      "[1, 2, 4, 3, 9, 7, 5]\n",
      "[1, 2, 4, 3, 9, 7, 5]\n"
     ]
    }
   ],
   "source": [
    "# Cloning or Copying a list\n",
    "\n",
    "l = list(map(int, input().split()))\n",
    "l1 = l                          # shallow copy - points to same list i.e. same memory location\n",
    "l2 = l.copy()                   # deep copy - creates new list i.e. at different memory address\n",
    "print(l1)\n",
    "print(l2)"
   ]
  },
  {
   "cell_type": "code",
   "execution_count": 41,
   "metadata": {},
   "outputs": [
    {
     "name": "stdout",
     "output_type": "stream",
     "text": [
      "1 2 4 3 9 7 5 7\n",
      "[1, 2, 4, 3, 9, 7, 5, 7]\n",
      "[1, 2, 4, 3, 9, 7, 5, 7]\n",
      "[1, 2, 144, 3, 9, 7, 5, 7]\n"
     ]
    }
   ],
   "source": [
    "l = list(map(int, input().split()))\n",
    "l3 = []\n",
    "# deep copy\n",
    "for i in l:\n",
    "    l3.append(i)\n",
    "    \n",
    "print(l3)\n",
    "l3[2] = 144\n",
    "print(l)\n",
    "print(l3)"
   ]
  },
  {
   "cell_type": "code",
   "execution_count": 32,
   "metadata": {},
   "outputs": [
    {
     "name": "stdout",
     "output_type": "stream",
     "text": [
      "1 2 4 3 9 7 5 7 4 7 \n",
      "7\n",
      "3\n"
     ]
    }
   ],
   "source": [
    "# Count occurrences of an element in a list\n",
    "\n",
    "l = list(map(int, input().split()))\n",
    "ele = int(input())\n",
    "count = 0\n",
    "for i in l:\n",
    "    if i == ele:\n",
    "        count += 1\n",
    "print(count)"
   ]
  },
  {
   "cell_type": "code",
   "execution_count": 33,
   "metadata": {},
   "outputs": [
    {
     "data": {
      "text/plain": [
       "3"
      ]
     },
     "execution_count": 33,
     "metadata": {},
     "output_type": "execute_result"
    }
   ],
   "source": [
    "l.count(7)"
   ]
  },
  {
   "cell_type": "code",
   "execution_count": 40,
   "metadata": {},
   "outputs": [
    {
     "name": "stdout",
     "output_type": "stream",
     "text": [
      "Original list : [1, 2, [1, 2], 'Hiramani', (), 23.4, []]\n",
      "After removal : [1, 2, [1, 2], 'Hiramani', 23.4, []]\n"
     ]
    }
   ],
   "source": [
    "# Remove empty tuples from a list\n",
    "\n",
    "l = [ 1, 2 , [1,2], 'Hiramani', (), 23.4, []]\n",
    "print(\"Original list :\", l)\n",
    "for i in l:\n",
    "    if type(i) == tuple and len(i) ==0:\n",
    "        l.remove(i)\n",
    "print(\"After removal :\",l)"
   ]
  },
  {
   "cell_type": "code",
   "execution_count": 42,
   "metadata": {},
   "outputs": [
    {
     "name": "stdout",
     "output_type": "stream",
     "text": [
      "1 2 4 3 9 7 5 7 4 7\n",
      "[4, 7]\n"
     ]
    }
   ],
   "source": [
    "# Program to print duplicates from a list of integers\n",
    "\n",
    "l = list(map(int, input().split()))\n",
    "duplicates = []\n",
    "for i in l: \n",
    "    if l.count(i) > 1 and i not in duplicates:\n",
    "        duplicates.append(i)\n",
    "        \n",
    "print(duplicates)"
   ]
  },
  {
   "cell_type": "code",
   "execution_count": 46,
   "metadata": {},
   "outputs": [
    {
     "name": "stdout",
     "output_type": "stream",
     "text": [
      "10 20 30\n",
      "[10, 30, 60]\n"
     ]
    }
   ],
   "source": [
    "# Python program to find Cumulative sum of a list\n",
    "\n",
    "l = list(map(int, input().split()))\n",
    "c_sum = []\n",
    "\n",
    "c_sum.append(l[0])\n",
    "for i in range(1,len(l)):\n",
    "    c_sum.append(l[i] + c_sum[i-1])\n",
    "print(c_sum)"
   ]
  },
  {
   "cell_type": "code",
   "execution_count": 48,
   "metadata": {},
   "outputs": [
    {
     "name": "stdout",
     "output_type": "stream",
     "text": [
      "23 67 3 19\n",
      "[5, 13, 3, 10]\n"
     ]
    }
   ],
   "source": [
    "# Sum of number digits in List\n",
    "\n",
    "l = list(map(int, input().split()))\n",
    "digit_sum = []\n",
    "for i in l:\n",
    "    n = str(i)\n",
    "    sum = 0\n",
    "    for d in n:\n",
    "        sum += int(d)\n",
    "    digit_sum.append(sum)\n",
    "    \n",
    "print(digit_sum)"
   ]
  },
  {
   "cell_type": "markdown",
   "metadata": {},
   "source": [
    "def digit_sum(n):\n",
    "    n = str(i)\n",
    "    s = 0\n",
    "    for d in n:\n",
    "        s += int(d)\n",
    "    return s\n",
    "\n",
    "if __name__ == \"__main__\":\n",
    "    l = list(map(int, input().split()))\n",
    "    d_sum = []\n",
    "    for i in l:\n",
    "        summ = digit_sum(i)\n",
    "        if summ > 10:\n",
    "            summ = digit_sum(summ)\n",
    "        d_sum.append(summ)\n",
    "        \n",
    "print(d_sum) "
   ]
  },
  {
   "cell_type": "code",
   "execution_count": 57,
   "metadata": {},
   "outputs": [
    {
     "name": "stdout",
     "output_type": "stream",
     "text": [
      "1 2 3 4 5 6 7 8 9 11 12\n",
      "3\n",
      "[[1, 2, 3], [4, 5, 6], [7, 8, 9], [11, 12]]\n"
     ]
    }
   ],
   "source": [
    "# Break a list into chunks of size N in Python\n",
    "\n",
    "l = list(map(int, input().split()))\n",
    "N = int(input())\n",
    "chunks = []\n",
    "for i in range(0, len(l), N):\n",
    "    chunk = l[i:i+N]\n",
    "    chunks.append(chunk)\n",
    "    \n",
    "print(chunks)"
   ]
  },
  {
   "cell_type": "code",
   "execution_count": 3,
   "metadata": {},
   "outputs": [
    {
     "name": "stdout",
     "output_type": "stream",
     "text": [
      "adda\n",
      "Palindrome\n"
     ]
    }
   ],
   "source": [
    "# Python program to check if a string is palindrome or not\n",
    "\n",
    "s = input()\n",
    "if s == s[::-1]:\n",
    "    print(\"Palindrome\")\n",
    "else:\n",
    "    print(\"Not a palindrome\")"
   ]
  },
  {
   "cell_type": "code",
   "execution_count": 14,
   "metadata": {
    "scrolled": true
   },
   "outputs": [
    {
     "name": "stdout",
     "output_type": "stream",
     "text": [
      "amaama\n",
      "Symmetrical\n",
      "Palindrome\n"
     ]
    }
   ],
   "source": [
    "# Python program to check whether the string is Symmetrical or Palindrome\n",
    "\n",
    "s = input()\n",
    "half = len(s)//2\n",
    "if s[:half] == s[half:]:\n",
    "    print(\"Symmetrical\")\n",
    "else:\n",
    "    print(\"Not symmetrical\")\n",
    "    \n",
    "if s == s[::-1]:\n",
    "    print(\"Palindrome\")\n",
    "else:\n",
    "    print(\"Not palindrome\")"
   ]
  },
  {
   "cell_type": "code",
   "execution_count": 15,
   "metadata": {},
   "outputs": [
    {
     "name": "stdout",
     "output_type": "stream",
     "text": [
      "We are learning python\n",
      "python learning are We\n"
     ]
    }
   ],
   "source": [
    "# Reverse words in a given String in Python\n",
    "\n",
    "s = list(input().split())\n",
    "s = s[::-1]\n",
    "s = ' '.join(s)\n",
    "print(s)"
   ]
  },
  {
   "cell_type": "code",
   "execution_count": 16,
   "metadata": {},
   "outputs": [
    {
     "name": "stdout",
     "output_type": "stream",
     "text": [
      "amama\n",
      "2\n",
      "amma\n"
     ]
    }
   ],
   "source": [
    "# Ways to remove i’th character from string in Python\n",
    "\n",
    "s = input()\n",
    "i = int(input())\n",
    "\n",
    "s1 = s[:i] + s[i+1:]\n",
    "print(s1)"
   ]
  },
  {
   "cell_type": "code",
   "execution_count": 17,
   "metadata": {},
   "outputs": [
    {
     "name": "stdout",
     "output_type": "stream",
     "text": [
      "python is love\n",
      "love\n",
      "Yes\n"
     ]
    }
   ],
   "source": [
    "# Check if a Substring is Present in a Given String\n",
    "\n",
    "s = input()\n",
    "substr = input()\n",
    "\n",
    "if substr in s:\n",
    "    print(\"Yes\")\n",
    "else:\n",
    "    print(\"No\")"
   ]
  },
  {
   "cell_type": "code",
   "execution_count": 21,
   "metadata": {},
   "outputs": [
    {
     "name": "stdout",
     "output_type": "stream",
     "text": [
      "Python is an interpreted language . Python is the language that is mostly used for machine learning and deep learning\n",
      "Python 2\n",
      "is 3\n",
      "an 1\n",
      "interpreted 1\n",
      "language 2\n",
      ". 1\n",
      "the 1\n",
      "that 1\n",
      "mostly 1\n",
      "used 1\n",
      "for 1\n",
      "machine 1\n",
      "learning 2\n",
      "and 1\n",
      "deep 1\n"
     ]
    }
   ],
   "source": [
    "# Words Frequency in String Shorthands\n",
    "\n",
    "s = input()\n",
    "l = list(s.split())\n",
    "d = {}\n",
    "for word in l:\n",
    "    if word not in d.keys():\n",
    "        d[word] = 1\n",
    "    else:\n",
    "        d[word] += 1\n",
    "for key in d.keys():\n",
    "    print(key, d[key])"
   ]
  },
  {
   "cell_type": "code",
   "execution_count": 22,
   "metadata": {},
   "outputs": [
    {
     "name": "stdout",
     "output_type": "stream",
     "text": [
      "python_forever_for_everyone\n",
      "pythonforeverforeveryone\n"
     ]
    }
   ],
   "source": [
    "# Convert Snake case to Pascal case\n",
    "\n",
    "s = input()\n",
    "l = s.split('_')\n",
    "s = ''.join(l)\n",
    "print(s)"
   ]
  },
  {
   "cell_type": "code",
   "execution_count": 24,
   "metadata": {},
   "outputs": [
    {
     "name": "stdout",
     "output_type": "stream",
     "text": [
      "python lover\n",
      "12\n"
     ]
    }
   ],
   "source": [
    "# Find length of a string in python (4 ways)\n",
    "\n",
    "s = input()\n",
    "count = 0\n",
    "for i in s:\n",
    "    count += 1\n",
    "print(count)"
   ]
  },
  {
   "cell_type": "code",
   "execution_count": 26,
   "metadata": {},
   "outputs": [
    {
     "name": "stdout",
     "output_type": "stream",
     "text": [
      "Our python is an interpreted language\n",
      "python\n",
      "is\n",
      "an\n",
      "language\n"
     ]
    }
   ],
   "source": [
    "# Python program to print even length words in a string\n",
    "\n",
    "s = input()\n",
    "l = s.split()\n",
    "for word in l:\n",
    "    if len(word)%2 == 0:\n",
    "        print(word)"
   ]
  },
  {
   "cell_type": "code",
   "execution_count": 30,
   "metadata": {},
   "outputs": [
    {
     "name": "stdout",
     "output_type": "stream",
     "text": [
      "SEEquoiaL\n",
      "Accepted\n"
     ]
    }
   ],
   "source": [
    "# Python program to accept the strings which contains all vowels\n",
    "\n",
    "string = input()\n",
    "vowels = ['a','e','i','o','u']\n",
    "s = set({})\n",
    "\n",
    "for char in string.lower():\n",
    "    if char in vowels:\n",
    "        s.add(char)\n",
    "        \n",
    "if len(vowels) == len(s):\n",
    "    print(\"Accepted\")\n",
    "else:\n",
    "    print(\"Rejected\")"
   ]
  },
  {
   "cell_type": "code",
   "execution_count": 1,
   "metadata": {},
   "outputs": [
    {
     "name": "stdout",
     "output_type": "stream",
     "text": [
      "abcde\n",
      "cdefg\n",
      "3\n"
     ]
    }
   ],
   "source": [
    "# Count the Number of matching characters in a pair of string\n",
    "\n",
    "s1 = input()\n",
    "s2 = input()\n",
    "match = set({})\n",
    "for char in s1:\n",
    "    if char in s2:\n",
    "        match.add(char)\n",
    "        \n",
    "print(len(match))"
   ]
  },
  {
   "cell_type": "code",
   "execution_count": 3,
   "metadata": {
    "scrolled": true
   },
   "outputs": [
    {
     "name": "stdout",
     "output_type": "stream",
     "text": [
      "geeksforgeeks\n",
      "geksfor\n"
     ]
    }
   ],
   "source": [
    "# Remove all duplicates from a given string in Python\n",
    "\n",
    "s = input()\n",
    "l = []\n",
    "for char in s:\n",
    "    if char not in l:\n",
    "        l.append(char)\n",
    "s = ''.join(l)\n",
    "print(s)"
   ]
  },
  {
   "cell_type": "code",
   "execution_count": 12,
   "metadata": {},
   "outputs": [
    {
     "name": "stdout",
     "output_type": "stream",
     "text": [
      "hello worldd\n",
      "Freuency = 1 \n",
      "characters = h e w r "
     ]
    }
   ],
   "source": [
    "# Least Frequent Character in String\n",
    "\n",
    "s = input()\n",
    "d = {}\n",
    "for char in s:\n",
    "    if char != ' ':\n",
    "        if char not in d.keys():\n",
    "            d[char] = 1\n",
    "        else:\n",
    "            d[char] += 1\n",
    "        \n",
    "minimum = min(d.values())\n",
    "print(\"Freuency =\",minimum, \"\\ncharacters = \", end='')\n",
    "for key in d.keys():\n",
    "    if d[key] == minimum:\n",
    "        print(key, end=' ')"
   ]
  },
  {
   "cell_type": "code",
   "execution_count": 13,
   "metadata": {},
   "outputs": [
    {
     "name": "stdout",
     "output_type": "stream",
     "text": [
      "hello worlddd\n",
      "Freuency = 3 \n",
      "characters = l d "
     ]
    }
   ],
   "source": [
    "# Maximum frequency character in String\n",
    "\n",
    "s = input()\n",
    "d = {}\n",
    "for char in s:\n",
    "    if char != ' ':\n",
    "        if char not in d.keys():\n",
    "            d[char] = 1\n",
    "        else:\n",
    "            d[char] += 1\n",
    "        \n",
    "maximum = max(d.values())\n",
    "print(\"Freuency =\",maximum, \"\\ncharacters = \", end='')\n",
    "for key in d.keys():\n",
    "    if d[key] == maximum:\n",
    "        print(key, end=' ')"
   ]
  },
  {
   "cell_type": "code",
   "execution_count": 15,
   "metadata": {},
   "outputs": [
    {
     "name": "stdout",
     "output_type": "stream",
     "text": [
      "nandani\n",
      "Does not contain special character\n"
     ]
    }
   ],
   "source": [
    "# Program to check if a string contains any special character\n",
    "\n",
    "s = input()\n",
    "special_char = ['@','_','!','#','$','%','^','&','*','(',')','<','>','?','/','\\\\','|','}','{','~',':']\n",
    "for char in s:\n",
    "    if char in special_char:\n",
    "        print(\"Contains special character\")\n",
    "        break\n",
    "else:\n",
    "    print(\"Does not contain special character\")"
   ]
  },
  {
   "cell_type": "code",
   "execution_count": null,
   "metadata": {},
   "outputs": [],
   "source": [
    "# Generating random strings until a given string is generated\n",
    "\n"
   ]
  },
  {
   "cell_type": "code",
   "execution_count": 16,
   "metadata": {},
   "outputs": [
    {
     "name": "stdout",
     "output_type": "stream",
     "text": [
      "string is fun in python\n",
      "4\n",
      "string python "
     ]
    }
   ],
   "source": [
    "# Find words which are greater than given length k\n",
    "\n",
    "s = list(input().split())\n",
    "length = int(input())\n",
    "for word in s:\n",
    "    if len(word) > length:\n",
    "        print(word, end=' ')"
   ]
  },
  {
   "cell_type": "code",
   "execution_count": 17,
   "metadata": {},
   "outputs": [
    {
     "name": "stdout",
     "output_type": "stream",
     "text": [
      "python\n",
      "4\n",
      "pythn\n"
     ]
    }
   ],
   "source": [
    "# Python program for removing i-th character from a string\n",
    "\n",
    "s = input()\n",
    "i = int(input())\n",
    "s1 = s[:i] + s[i+1:]\n",
    "print(s1)"
   ]
  },
  {
   "cell_type": "code",
   "execution_count": 18,
   "metadata": {},
   "outputs": [
    {
     "name": "stdout",
     "output_type": "stream",
     "text": [
      "python@360\n",
      "['python', '360']\n",
      "python_360\n"
     ]
    }
   ],
   "source": [
    "# Python program to split and join a string\n",
    "\n",
    "s = input()\n",
    "s1 = s.split(\"@\")\n",
    "print(s1)\n",
    "\n",
    "s2 = '_'.join(s1)\n",
    "print(s2)"
   ]
  },
  {
   "cell_type": "code",
   "execution_count": 21,
   "metadata": {},
   "outputs": [
    {
     "name": "stdout",
     "output_type": "stream",
     "text": [
      "0012\n",
      "Not binary\n"
     ]
    }
   ],
   "source": [
    "# Check if a given string is binary string or not\n",
    "\n",
    "s = input()\n",
    "binary = ['0', '1']\n",
    "for char in s:\n",
    "    if char not in binary:\n",
    "        print(\"Not binary\")\n",
    "        break\n",
    "else:\n",
    "    print(\"Binary\")"
   ]
  },
  {
   "cell_type": "code",
   "execution_count": null,
   "metadata": {},
   "outputs": [],
   "source": [
    "Check for URL in a String\n",
    "Execute a String of Code in Python\n",
    "String slicing in Python to check if a string can become empty by recursive deletion\n",
    "\n",
    "\n",
    "Python – \n",
    "\n",
    "Python – Adding Tuple to List and vice – versa\n",
    "Python – \n",
    "Python – Join Tuples if similar initial element\n",
    "Python – Extract digits from Tuple list\n",
    "Python – All pair combinations of 2 tuples\n",
    "Python – Remove Tuples of Length K\n",
    "Sort a list of tuples by second Item\n",
    "Python program to Order Tuples using external List\n",
    "Python – Flatten tuple of List to tuple"
   ]
  },
  {
   "cell_type": "code",
   "execution_count": 2,
   "metadata": {},
   "outputs": [
    {
     "name": "stdout",
     "output_type": "stream",
     "text": [
      "python is an interpreted language\n",
      "also python is an open source\n",
      "['interpreted', 'language', 'also', 'open', 'source']\n"
     ]
    }
   ],
   "source": [
    "# Python program to find uncommon words from two Strings\n",
    "\n",
    "s1 = list(input().split())\n",
    "s2 = list(input().split())\n",
    "\n",
    "uncommon = [] \n",
    "\n",
    "for word in s1:\n",
    "    if word not in s2:\n",
    "        uncommon.append(word)\n",
    "for word in s2:\n",
    "    if word not in s1:\n",
    "        uncommon.append(word)\n",
    "print(uncommon)"
   ]
  },
  {
   "cell_type": "code",
   "execution_count": 4,
   "metadata": {},
   "outputs": [
    {
     "name": "stdout",
     "output_type": "stream",
     "text": [
      "Python is an interpreted language. Python is open source. Python is easy\n",
      "Python is an interpreted language. It is open source. It is easy\n"
     ]
    }
   ],
   "source": [
    "# Replace duplicate Occurrence in String\n",
    "\n",
    "s = list(input().split())\n",
    "\n",
    "replace_dup = {'Python':'It'}\n",
    "res = []\n",
    "\n",
    "for word in s:\n",
    "    if word in replace_dup.keys():\n",
    "        if word in res:\n",
    "            res.append(replace_dup[word])\n",
    "        else:\n",
    "            res.append(word)\n",
    "    else:\n",
    "        res.append(word)\n",
    "            \n",
    "l = ' '.join(res)\n",
    "print(l)"
   ]
  },
  {
   "cell_type": "code",
   "execution_count": 5,
   "metadata": {},
   "outputs": [
    {
     "name": "stdout",
     "output_type": "stream",
     "text": [
      "Python is good to learn for both technical and non technical persons\n",
      "good learn persons\n",
      "beast\n",
      "Python is beast to beast for both technical and non technical beast\n"
     ]
    }
   ],
   "source": [
    "# Replace multiple words with K\n",
    "\n",
    "s = list(input().split())\n",
    "words_rep = list(input().split())\n",
    "word = input()\n",
    "\n",
    "for i in range(len(s)):\n",
    "    if s[i] in words_rep:\n",
    "        s[i] = word\n",
    "\n",
    "s = ' '.join(s)\n",
    "print(s)"
   ]
  },
  {
   "cell_type": "code",
   "execution_count": 8,
   "metadata": {},
   "outputs": [
    {
     "name": "stdout",
     "output_type": "stream",
     "text": [
      "Enter the string : abcd\n",
      "All possible strings are : \n",
      "abcd  abdc  acbd  acdb  adbc  adcb  bacd  badc  bcad  bcda  bdac  bdca  cabd  cadb  cbad  cbda  cdab  cdba  dabc  dacb  dbac  dbca  dcab  dcba  "
     ]
    }
   ],
   "source": [
    "# Permutation of a given string using inbuilt function\n",
    "\n",
    "def permute(s, answer):\n",
    "    if (len(s) == 0):\n",
    "        print(answer, end = \"  \")\n",
    "        return\n",
    "      \n",
    "    for i in range(len(s)):\n",
    "        ch = s[i]\n",
    "        left_substr = s[0:i]\n",
    "        right_substr = s[i + 1:]\n",
    "        rest = left_substr + right_substr\n",
    "        permute(rest, answer + ch)\n",
    "  \n",
    "answer = \"\"\n",
    "  \n",
    "s = input(\"Enter the string : \")\n",
    "  \n",
    "print(\"All possible strings are : \")\n",
    "permute(s, answer)"
   ]
  },
  {
   "cell_type": "code",
   "execution_count": 14,
   "metadata": {},
   "outputs": [
    {
     "name": "stdout",
     "output_type": "stream",
     "text": [
      "voldemort\n",
      "3\n",
      "demortvol\n",
      "ortvoldem\n"
     ]
    }
   ],
   "source": [
    "# String slicing in Python to rotate a string\n",
    "\n",
    "s = input()\n",
    "d = int(input())\n",
    "\n",
    "left_rotate = s[d:] + s[:d]\n",
    "print(left_rotate)\n",
    "\n",
    "right_rotate = s[len(s)-d:] + s[:len(s)-d]                  \n",
    "print(right_rotate)"
   ]
  },
  {
   "cell_type": "code",
   "execution_count": 13,
   "metadata": {},
   "outputs": [
    {
     "name": "stdout",
     "output_type": "stream",
     "text": [
      "1 2 3\n",
      "3\n",
      "12\n"
     ]
    }
   ],
   "source": [
    "# Python program to Find the size of a Tuple\n",
    "\n",
    "t = tuple(input().split())\n",
    "l = 0\n",
    "for i in t:\n",
    "    l+=1\n",
    "print(l)"
   ]
  },
  {
   "cell_type": "code",
   "execution_count": 10,
   "metadata": {},
   "outputs": [
    {
     "name": "stdout",
     "output_type": "stream",
     "text": [
      "[3, 5, 6, 7, 8, 20]\n",
      "(3, 5, 8, 20)\n"
     ]
    }
   ],
   "source": [
    "# Maximum and Minimum K elements in Tuple\n",
    "\n",
    "t = (5, 20, 3, 7, 6, 8)\n",
    "k = 2\n",
    "l = sorted(list(t))\n",
    "\n",
    "res = tuple(l[:k]+l[-k:])\n",
    "print(res)"
   ]
  },
  {
   "cell_type": "code",
   "execution_count": 14,
   "metadata": {},
   "outputs": [
    {
     "name": "stdout",
     "output_type": "stream",
     "text": [
      "[(1, 1), (2, 8), (3, 27), (4, 64), (5, 125)]\n"
     ]
    }
   ],
   "source": [
    "# Create a list of tuples from given list having number and its cube in each tuple\n",
    "\n",
    "num = [1,2,3,4,5]\n",
    "l_o_t = []\n",
    "for n in num:\n",
    "    cube = n**3\n",
    "    l_o_t.append(n,cube)\n",
    "print(l_o_t)"
   ]
  },
  {
   "cell_type": "code",
   "execution_count": 26,
   "metadata": {},
   "outputs": [
    {
     "name": "stdout",
     "output_type": "stream",
     "text": [
      "23GF\n",
      "10980\n"
     ]
    }
   ],
   "source": [
    "l = input()\n",
    "sum = 0\n",
    "\n",
    "d = {'A':10, 'B':11, 'C':12, 'D':13, 'E':14, 'F':15, 'G':16} \n",
    "for n in range(len(l)):\n",
    "    if l[n] in d.keys():\n",
    "        num = d[l[n]]\n",
    "    else:\n",
    "        num = int(l[n])\n",
    "    sum += num * (17**((len(l)-1)-n))\n",
    "\n",
    "print(sum)"
   ]
  },
  {
   "cell_type": "code",
   "execution_count": null,
   "metadata": {},
   "outputs": [],
   "source": [
    "# Closest Pair to Kth index element in Tuple"
   ]
  },
  {
   "cell_type": "code",
   "execution_count": 4,
   "metadata": {},
   "outputs": [
    {
     "name": "stdout",
     "output_type": "stream",
     "text": [
      "200\n",
      "540\n",
      "130 70\n"
     ]
    }
   ],
   "source": [
    "v = int(input())\n",
    "W = int(input())\n",
    "\n",
    "if W >= 2 and W%2 == 0 and v < W:\n",
    "    FW = (W - 2*v) // 2\n",
    "    TW = v - FW\n",
    "print(TW, FW)"
   ]
  },
  {
   "cell_type": "code",
   "execution_count": 9,
   "metadata": {},
   "outputs": [
    {
     "name": "stdout",
     "output_type": "stream",
     "text": [
      "***#\n",
      "-1\n"
     ]
    }
   ],
   "source": [
    "s = input()\n",
    "count_hash = 0\n",
    "count_star = 0\n",
    "for char in s:\n",
    "    if char == '#':\n",
    "        count_hash += 1\n",
    "    else:\n",
    "        count_star += 1\n",
    "\n",
    "if count_hash > count_star:\n",
    "    print(1)\n",
    "elif count_hash < count_star:\n",
    "    print(-1)\n",
    "else:\n",
    "    print(0)"
   ]
  },
  {
   "cell_type": "code",
   "execution_count": 12,
   "metadata": {},
   "outputs": [
    {
     "name": "stdout",
     "output_type": "stream",
     "text": [
      "7 2 8 5 9\n",
      "3\n"
     ]
    }
   ],
   "source": [
    "arr = list(input().split())\n",
    "count = 1\n",
    "for i in range(1,len(arr)):\n",
    "    res = []\n",
    "    for j in range(i):\n",
    "        res.append(arr[j]<arr[i])\n",
    "    if all(res):\n",
    "        count += 1\n",
    "        \n",
    "print(count)"
   ]
  },
  {
   "cell_type": "code",
   "execution_count": 16,
   "metadata": {},
   "outputs": [
    {
     "name": "stdout",
     "output_type": "stream",
     "text": [
      "4 3\n",
      "0 1 0 1 1 0 1 0 1 1 1 1\n",
      "4\n"
     ]
    }
   ],
   "source": [
    "R, C = map(int,input().split())\n",
    "ele = list(input().split())\n",
    "l = []\n",
    "for i in range(0,len(ele),C):\n",
    "    l.append(ele[i:i+C])\n",
    "\n",
    "max = l[0].count('1')\n",
    "for j in range(1,len(l)):\n",
    "    if l[j].count('1') > max:\n",
    "        max = l[j].count('1')\n",
    "        row = j\n",
    "\n",
    "print(row+1)"
   ]
  },
  {
   "cell_type": "code",
   "execution_count": 23,
   "metadata": {},
   "outputs": [
    {
     "name": "stdout",
     "output_type": "stream",
     "text": [
      "4\n",
      "3\n",
      "5\n",
      "2\n",
      "0\n",
      "0\n",
      "2\n",
      "4\n",
      "4\n",
      "[3, 5, 2, 0]\n",
      "[0, 2, 4, 4]\n",
      "6\n"
     ]
    }
   ],
   "source": [
    "T = int(input())\n",
    "E = []\n",
    "L = []\n",
    "for i in range(T):\n",
    "    E.append(int(input()))\n",
    "for i in range(T):\n",
    "    L.append(int(input()))\n",
    "print(E)\n",
    "print(L)\n",
    "count = 0\n",
    "max = count\n",
    "for i in range(T):\n",
    "    count = count + E[i] - L[i]\n",
    "    if count > max:\n",
    "        max = count\n",
    "print(max)"
   ]
  },
  {
   "cell_type": "code",
   "execution_count": 34,
   "metadata": {},
   "outputs": [
    {
     "name": "stdout",
     "output_type": "stream",
     "text": [
      "51\n",
      "r b g g @ y r\n",
      "invalid input\n"
     ]
    }
   ],
   "source": [
    "import string\n",
    "N = int(input())\n",
    "B = list(input().split())\n",
    "flag = 0\n",
    "lower = string.ascii_lowercase\n",
    "upper = string.ascii_uppercase\n",
    "if (3 <= N and N <=50):\n",
    "    for color in B:\n",
    "        if color not in lower or color not in upper:\n",
    "            print('invalid input')\n",
    "            flag = 1\n",
    "            break\n",
    "        if B.count(color) % 2 != 0:\n",
    "            print(color)\n",
    "            flag = 1\n",
    "            break\n",
    "    if not flag:\n",
    "        print(\"All are even\")\n",
    "else:\n",
    "    print('invalid input')"
   ]
  },
  {
   "cell_type": "code",
   "execution_count": 47,
   "metadata": {},
   "outputs": [
    {
     "name": "stdout",
     "output_type": "stream",
     "text": [
      "95 92 95 92 90 92 90 92 90\n"
     ]
    },
    {
     "ename": "TypeError",
     "evalue": "'int' object is not callable",
     "output_type": "error",
     "traceback": [
      "\u001b[1;31m---------------------------------------------------------------------------\u001b[0m",
      "\u001b[1;31mTypeError\u001b[0m                                 Traceback (most recent call last)",
      "\u001b[1;32m<ipython-input-47-0074b86383b8>\u001b[0m in \u001b[0;36m<module>\u001b[1;34m\u001b[0m\n\u001b[0;32m      7\u001b[0m \u001b[1;32mfor\u001b[0m \u001b[0mi\u001b[0m \u001b[1;32min\u001b[0m \u001b[0mrange\u001b[0m\u001b[1;33m(\u001b[0m\u001b[1;36m3\u001b[0m\u001b[1;33m)\u001b[0m\u001b[1;33m:\u001b[0m\u001b[1;33m\u001b[0m\u001b[1;33m\u001b[0m\u001b[0m\n\u001b[0;32m      8\u001b[0m     \u001b[0mavg\u001b[0m\u001b[1;33m.\u001b[0m\u001b[0mappend\u001b[0m\u001b[1;33m(\u001b[0m\u001b[0mround\u001b[0m\u001b[1;33m(\u001b[0m\u001b[1;33m(\u001b[0m\u001b[0mint\u001b[0m\u001b[1;33m(\u001b[0m\u001b[0mround_1\u001b[0m\u001b[1;33m[\u001b[0m\u001b[0mi\u001b[0m\u001b[1;33m]\u001b[0m\u001b[1;33m)\u001b[0m\u001b[1;33m+\u001b[0m\u001b[0mint\u001b[0m\u001b[1;33m(\u001b[0m\u001b[0mround_2\u001b[0m\u001b[1;33m[\u001b[0m\u001b[0mi\u001b[0m\u001b[1;33m]\u001b[0m\u001b[1;33m)\u001b[0m\u001b[1;33m+\u001b[0m\u001b[0mint\u001b[0m\u001b[1;33m(\u001b[0m\u001b[0mround_3\u001b[0m\u001b[1;33m[\u001b[0m\u001b[0mi\u001b[0m\u001b[1;33m]\u001b[0m\u001b[1;33m)\u001b[0m\u001b[1;33m)\u001b[0m\u001b[1;33m/\u001b[0m\u001b[1;36m3\u001b[0m\u001b[1;33m)\u001b[0m\u001b[1;33m)\u001b[0m\u001b[1;33m\u001b[0m\u001b[1;33m\u001b[0m\u001b[0m\n\u001b[1;32m----> 9\u001b[1;33m \u001b[0mm\u001b[0m \u001b[1;33m=\u001b[0m \u001b[0mmax\u001b[0m\u001b[1;33m(\u001b[0m\u001b[0mavg\u001b[0m\u001b[1;33m)\u001b[0m\u001b[1;33m\u001b[0m\u001b[1;33m\u001b[0m\u001b[0m\n\u001b[0m\u001b[0;32m     10\u001b[0m \u001b[1;32mif\u001b[0m \u001b[0mm\u001b[0m \u001b[1;33m<\u001b[0m \u001b[1;36m70\u001b[0m\u001b[1;33m:\u001b[0m\u001b[1;33m\u001b[0m\u001b[1;33m\u001b[0m\u001b[0m\n\u001b[0;32m     11\u001b[0m     \u001b[0mprint\u001b[0m\u001b[1;33m(\u001b[0m\u001b[1;34m'All are unfit'\u001b[0m\u001b[1;33m)\u001b[0m\u001b[1;33m\u001b[0m\u001b[1;33m\u001b[0m\u001b[0m\n",
      "\u001b[1;31mTypeError\u001b[0m: 'int' object is not callable"
     ]
    }
   ],
   "source": [
    "l = list(input().split())\n",
    "\n",
    "round_1 = l[:3]\n",
    "round_2 = l[3:6]\n",
    "round_3 = l[6:]\n",
    "avg = []\n",
    "for i in range(3):\n",
    "    avg.append(round((int(round_1[i])+int(round_2[i])+int(round_3[i]))/3))\n",
    "m = max(avg)\n",
    "if m < 70:\n",
    "    print('All are unfit')\n",
    "else:\n",
    "    for i in range(3):\n",
    "        if avg[i] == m:\n",
    "            print(\"trainee {}\".format(i+1))\n",
    "    print('Maximum oxygen level: {}'.format(m))  "
   ]
  },
  {
   "cell_type": "code",
   "execution_count": 51,
   "metadata": {},
   "outputs": [
    {
     "name": "stdout",
     "output_type": "stream",
     "text": [
      "11\n",
      "10\n"
     ]
    }
   ],
   "source": [
    "def get_series(n):\n",
    "    series = [0]\n",
    "    for i in range(1,n+1):\n",
    "        if i % 2 != 0:\n",
    "            series.append(i-1)\n",
    "        else:\n",
    "            series.append(series[i-1]//2)\n",
    "    return series[n]\n",
    "           \n",
    "n = int(input())\n",
    "nth_term = get_series(n)\n",
    "print(nth_term)"
   ]
  },
  {
   "cell_type": "code",
   "execution_count": 56,
   "metadata": {},
   "outputs": [
    {
     "name": "stdout",
     "output_type": "stream",
     "text": [
      "20\n",
      "20.38\n"
     ]
    },
    {
     "ename": "NameError",
     "evalue": "name 'fsum' is not defined",
     "output_type": "error",
     "traceback": [
      "\u001b[1;31m---------------------------------------------------------------------------\u001b[0m",
      "\u001b[1;31mNameError\u001b[0m                                 Traceback (most recent call last)",
      "\u001b[1;32m<ipython-input-56-b801dd5e2cc3>\u001b[0m in \u001b[0;36m<module>\u001b[1;34m\u001b[0m\n\u001b[0;32m      2\u001b[0m \u001b[0mnum2\u001b[0m \u001b[1;33m=\u001b[0m \u001b[0mfloat\u001b[0m\u001b[1;33m(\u001b[0m\u001b[0minput\u001b[0m\u001b[1;33m(\u001b[0m\u001b[1;33m)\u001b[0m\u001b[1;33m)\u001b[0m\u001b[1;33m\u001b[0m\u001b[1;33m\u001b[0m\u001b[0m\n\u001b[0;32m      3\u001b[0m \u001b[1;33m\u001b[0m\u001b[0m\n\u001b[1;32m----> 4\u001b[1;33m \u001b[0ms\u001b[0m \u001b[1;33m=\u001b[0m \u001b[0mfsum\u001b[0m\u001b[1;33m(\u001b[0m\u001b[0mnum1\u001b[0m\u001b[1;33m,\u001b[0m\u001b[0mnum2\u001b[0m\u001b[1;33m)\u001b[0m\u001b[1;33m\u001b[0m\u001b[1;33m\u001b[0m\u001b[0m\n\u001b[0m\u001b[0;32m      5\u001b[0m \u001b[0mprint\u001b[0m\u001b[1;33m(\u001b[0m\u001b[0ms\u001b[0m\u001b[1;33m)\u001b[0m\u001b[1;33m\u001b[0m\u001b[1;33m\u001b[0m\u001b[0m\n",
      "\u001b[1;31mNameError\u001b[0m: name 'fsum' is not defined"
     ]
    }
   ],
   "source": [
    "def sum(num1, num2):\n",
    "    n1 = int()\n",
    "\n",
    "num1 = float(input())\n",
    "num2 = float(input())\n",
    "\n",
    "s = fsum(num1,num2)\n",
    "print(s)"
   ]
  },
  {
   "cell_type": "code",
   "execution_count": 61,
   "metadata": {},
   "outputs": [
    {
     "name": "stdout",
     "output_type": "stream",
     "text": [
      "1908\n",
      "Leap year\n"
     ]
    }
   ],
   "source": [
    "year = int(input())\n",
    "\n",
    "if (year%4==0 and year%100!=0) or year%400 == 0:\n",
    "    print(\"Leap year\")\n",
    "else:\n",
    "    print(\"Not a leap year\")"
   ]
  },
  {
   "cell_type": "code",
   "execution_count": 69,
   "metadata": {},
   "outputs": [
    {
     "name": "stdout",
     "output_type": "stream",
     "text": [
      "-2\n",
      "Please enter a valid no.\n"
     ]
    }
   ],
   "source": [
    "def prime(n):\n",
    "    if n == 0 or n ==1:\n",
    "        print(\"Not a prime number\")\n",
    "        return\n",
    "    else:\n",
    "        for i in range(2, n//2):\n",
    "            if n%i == 0:\n",
    "                print('Not a prime number')\n",
    "                return\n",
    "    print(\"Prime number\")\n",
    "    \n",
    "def check(n):\n",
    "    if n>=0:\n",
    "        prime(n)\n",
    "    else:\n",
    "        print(\"Please enter a valid no.\")\n",
    "\n",
    "if __name__ == '__main__':\n",
    "    n = int(input())\n",
    "    check(n)"
   ]
  },
  {
   "cell_type": "code",
   "execution_count": 73,
   "metadata": {},
   "outputs": [
    {
     "name": "stdout",
     "output_type": "stream",
     "text": [
      "15\n",
      "49\n"
     ]
    }
   ],
   "source": [
    "def gen_series(n):\n",
    "    series = []\n",
    "    series.append(0)\n",
    "    series.append(0)\n",
    "    for i in range(2,n):\n",
    "        if i%2==0:\n",
    "            series.append(series[i-2]+7)\n",
    "        else:\n",
    "            series.append(series[i-2]+6)\n",
    "    return series[n-1]\n",
    "    \n",
    "n = int(input())\n",
    "print(gen_series(n))"
   ]
  },
  {
   "cell_type": "code",
   "execution_count": 87,
   "metadata": {},
   "outputs": [
    {
     "name": "stdout",
     "output_type": "stream",
     "text": [
      "16\n",
      "2187\n"
     ]
    }
   ],
   "source": [
    "def get_series(n):\n",
    "    a=1\n",
    "    if n%2==0:\n",
    "        r=3 \n",
    "        pow = n//2\n",
    "    else:\n",
    "        r=2\n",
    "        pow = n//2 +1\n",
    "    tn = a * r**(pow-1)\n",
    "    print(tn)\n",
    "\n",
    "n = int(input()) \n",
    "get_series(n)"
   ]
  },
  {
   "cell_type": "code",
   "execution_count": 1,
   "metadata": {},
   "outputs": [
    {
     "name": "stdout",
     "output_type": "stream",
     "text": [
      "how\n",
      "are\n",
      "you\n",
      "how#YOU\n"
     ]
    }
   ],
   "source": [
    "word1 = list(input().split())\n",
    "word2 = list(input().split())\n",
    "word3 = input()\n",
    "\n",
    "vowels = list('aeiou')\n",
    "\n",
    "for i in range(len(word1)):\n",
    "    if word1[i] in vowels:\n",
    "        word1[i] = '%'\n",
    "        \n",
    "for i in range(len(word2)):\n",
    "    if word2[i] not in vowels:\n",
    "        word2[i] = '#'\n",
    "\n",
    "w1 = ''.join(word1)\n",
    "w2 = ''.join(word2)\n",
    "w3 = word3.upper()\n",
    "print(w1+w2+w3)"
   ]
  },
  {
   "cell_type": "code",
   "execution_count": 7,
   "metadata": {},
   "outputs": [
    {
     "name": "stdout",
     "output_type": "stream",
     "text": [
      "100\n",
      "[1, 2, 4, 5, 10, 20, 25, 50, 100]\n"
     ]
    }
   ],
   "source": [
    "# Python program to find factors of a number\n",
    "\n",
    "def factor(n):\n",
    "    factors = [1]\n",
    "    for i in range(2,n//2+1):\n",
    "        if n%i == 0:\n",
    "            factors.append(i)\n",
    "    factors.append(n)\n",
    "    return factors\n",
    "\n",
    "n = int(input())\n",
    "print(factor(n))"
   ]
  },
  {
   "cell_type": "code",
   "execution_count": 9,
   "metadata": {},
   "outputs": [
    {
     "name": "stdout",
     "output_type": "stream",
     "text": [
      "10\n",
      "[2, 5]\n"
     ]
    }
   ],
   "source": [
    "# Python Program to Finding out the Prime Factors of a Number\n",
    "\n",
    "def is_prime(factor):\n",
    "    for i in range(2,factor//2):\n",
    "        if factor%i == 0:\n",
    "            return\n",
    "    return True\n",
    "\n",
    "def factors(n):\n",
    "    prime_factor = []\n",
    "    for i in range(2,n//2+1):\n",
    "        if n%i == 0 and is_prime(i):\n",
    "            prime_factor.append(i)\n",
    "    return prime_factor\n",
    "            \n",
    "n = int(input())\n",
    "print(factors(n))"
   ]
  },
  {
   "cell_type": "code",
   "execution_count": 10,
   "metadata": {},
   "outputs": [
    {
     "name": "stdout",
     "output_type": "stream",
     "text": [
      "28\n",
      "True\n"
     ]
    }
   ],
   "source": [
    "# Perfect Number Code in Python\n",
    "# A Number that can be represented as the sum of all the factors of the number is known as \n",
    "# a Perfect Number.\n",
    "\n",
    "def perfect_no(n):\n",
    "    s = 0\n",
    "    for i in range(1,n//2+1):\n",
    "        if n%i == 0:\n",
    "            s += i\n",
    "    return s==n\n",
    "\n",
    "n = int(input())\n",
    "print(perfect_no(n))"
   ]
  },
  {
   "cell_type": "code",
   "execution_count": 22,
   "metadata": {},
   "outputs": [
    {
     "name": "stdout",
     "output_type": "stream",
     "text": [
      "76\n",
      "5776\n",
      "True\n"
     ]
    }
   ],
   "source": [
    "# Automorphic number using Python\n",
    "# A number whose square ends with the same number is known as an Automorphic number\n",
    "\n",
    "def automorphic(n):\n",
    "    suare = n*n\n",
    "    print(str(suare))\n",
    "    return n == int(str(suare)[-len(str(n)):])\n",
    "\n",
    "n = int(input())\n",
    "print(automorphic(n))"
   ]
  },
  {
   "cell_type": "code",
   "execution_count": 23,
   "metadata": {},
   "outputs": [
    {
     "name": "stdout",
     "output_type": "stream",
     "text": [
      "21\n",
      "True\n"
     ]
    }
   ],
   "source": [
    "# Checking Whether the Number is Harshad or not using Python\n",
    "# A Number that is divisible by the sum of it's digits is known as a Harshad number.\n",
    "\n",
    "n = int(input())\n",
    "s = 0\n",
    "while n>0:\n",
    "    s += n%10\n",
    "    n = n//10\n",
    "print(n%s==0)"
   ]
  },
  {
   "cell_type": "code",
   "execution_count": 25,
   "metadata": {},
   "outputs": [
    {
     "name": "stdout",
     "output_type": "stream",
     "text": [
      "12\n",
      "True\n"
     ]
    }
   ],
   "source": [
    "# Python Program to check Abundant Number\n",
    "\n",
    "def sum_of_factors(n):\n",
    "    factors = []\n",
    "    for i in range(1,n//2+1):\n",
    "        if n%i ==0:\n",
    "            factors.append(i)\n",
    "    return sum(factors) > n\n",
    "\n",
    "n = int(input())\n",
    "print(sum_of_factors(n))"
   ]
  },
  {
   "cell_type": "code",
   "execution_count": 26,
   "metadata": {},
   "outputs": [
    {
     "name": "stdout",
     "output_type": "stream",
     "text": [
      "6 28\n",
      "Friendly pair\n"
     ]
    }
   ],
   "source": [
    "# Python program to check whether two numbers are Friendly Pair\n",
    "\n",
    "'''Input : 6 28\n",
    "Output : Yes, they are a friendly pair\n",
    "Explanation : \n",
    "The factors of 6 and 28 except the numbers themselves are 1, 2, 3 and 1, 2, 4, 7, 14 respectively.\n",
    "Now the sum of factors of both the numbers are 6 and 28 respectively. \n",
    "When we divide the sums with the numbers we get 1 and 1 respectively. \n",
    "As the ratio of both the number match, they are considered as a friendly pair.'''\n",
    "\n",
    "def factors_sum(n):\n",
    "    factor = [1]\n",
    "    for i in range(2,n//2+1):\n",
    "        if n%i==0:\n",
    "            factor.append(i)\n",
    "    return sum(factor)\n",
    "\n",
    "n1, n2 = map(int, input().split())\n",
    "if factors_sum(n1)/n1 == factors_sum(n2)/n2:\n",
    "    print('Friendly pair')\n",
    "else:\n",
    "    print('No')"
   ]
  }
 ],
 "metadata": {
  "kernelspec": {
   "display_name": "Python 3",
   "language": "python",
   "name": "python3"
  },
  "language_info": {
   "codemirror_mode": {
    "name": "ipython",
    "version": 3
   },
   "file_extension": ".py",
   "mimetype": "text/x-python",
   "name": "python",
   "nbconvert_exporter": "python",
   "pygments_lexer": "ipython3",
   "version": "3.8.3"
  }
 },
 "nbformat": 4,
 "nbformat_minor": 4
}
