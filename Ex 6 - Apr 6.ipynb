{
 "cells": [
  {
   "cell_type": "markdown",
   "metadata": {},
   "source": [
    "### Python program to check if a string is palindrome or not"
   ]
  },
  {
   "cell_type": "code",
   "execution_count": 3,
   "metadata": {},
   "outputs": [
    {
     "name": "stdout",
     "output_type": "stream",
     "text": [
      "radar\n",
      "Palindrome\n"
     ]
    }
   ],
   "source": [
    "s = input()\n",
    "if s == s[::-1]:\n",
    "    print(\"Palindrome\")\n",
    "else:\n",
    "    print(\"Not a palindrome\")"
   ]
  },
  {
   "cell_type": "markdown",
   "metadata": {},
   "source": [
    "### Python program to check whether the string is Symmetrical or Palindrome"
   ]
  },
  {
   "cell_type": "code",
   "execution_count": 8,
   "metadata": {},
   "outputs": [
    {
     "name": "stdout",
     "output_type": "stream",
     "text": [
      "kho\n",
      "Not Symmetrical\n",
      "Not a palindrome\n"
     ]
    }
   ],
   "source": [
    "s = input()\n",
    "half = int(len(s)/2)\n",
    "\n",
    "if s[:half] == s[half:]:\n",
    "    print(\"Symmetrical\")\n",
    "else:\n",
    "    print(\"Not Symmetrical\")\n",
    "    \n",
    "if s == s[::-1]:\n",
    "    print(\"Palindrome\")\n",
    "else:\n",
    "    print(\"Not a palindrome\")"
   ]
  },
  {
   "cell_type": "markdown",
   "metadata": {},
   "source": [
    "### Reverse words in a given String in Python\n",
    "\n",
    "- Input - we are doing python practice\n",
    "- output - practice python doing are we"
   ]
  },
  {
   "cell_type": "code",
   "execution_count": 9,
   "metadata": {},
   "outputs": [
    {
     "name": "stdout",
     "output_type": "stream",
     "text": [
      "we are doing python practice\n",
      "practice python doing are we\n"
     ]
    }
   ],
   "source": [
    "s = list(input().split())\n",
    "l = s[::-1]\n",
    "s = ' '.join(l)\n",
    "print(s)"
   ]
  },
  {
   "cell_type": "markdown",
   "metadata": {},
   "source": [
    "### Ways to remove i’th character from string in Python"
   ]
  },
  {
   "cell_type": "code",
   "execution_count": 14,
   "metadata": {
    "scrolled": true
   },
   "outputs": [
    {
     "name": "stdout",
     "output_type": "stream",
     "text": [
      "character\n",
      "3\n",
      "chaacter\n"
     ]
    }
   ],
   "source": [
    "s = input()\n",
    "i = int(input())\n",
    "new_s = \"\"\n",
    "for j in range(len(s)):\n",
    "    if j != i:\n",
    "        new_s = new_s + s[j]\n",
    "\n",
    "print(new_s)"
   ]
  },
  {
   "cell_type": "markdown",
   "metadata": {},
   "source": [
    "###  Check if a Substring is Present in a Given String"
   ]
  },
  {
   "cell_type": "code",
   "execution_count": 15,
   "metadata": {},
   "outputs": [
    {
     "name": "stdout",
     "output_type": "stream",
     "text": [
      "characteristics\n",
      "character\n",
      "True\n"
     ]
    }
   ],
   "source": [
    "s = input()\n",
    "substr = input()\n",
    "if substr in s:\n",
    "    print(\"True\")\n",
    "else:\n",
    "    print(\"False\")"
   ]
  },
  {
   "cell_type": "markdown",
   "metadata": {},
   "source": [
    "### Words Frequency in String"
   ]
  },
  {
   "cell_type": "code",
   "execution_count": 18,
   "metadata": {},
   "outputs": [
    {
     "name": "stdout",
     "output_type": "stream",
     "text": [
      "Python is an interpreted language . Python is the language that is mostly used for machine learning and deep learning\n",
      "Python 2\n",
      "is 3\n",
      "an 1\n",
      "interpreted 1\n",
      "language 2\n",
      ". 1\n",
      "the 1\n",
      "that 1\n",
      "mostly 1\n",
      "used 1\n",
      "for 1\n",
      "machine 1\n",
      "learning 2\n",
      "and 1\n",
      "deep 1\n"
     ]
    }
   ],
   "source": [
    "s = list(input().split())\n",
    "d = {}\n",
    "for word in s:\n",
    "    if word not in d.keys():\n",
    "        d[word] = s.count(word)\n",
    "        \n",
    "for key in d.keys():\n",
    "    print(key, d[key])"
   ]
  },
  {
   "cell_type": "markdown",
   "metadata": {},
   "source": [
    "### Convert Snake case to Pascal case"
   ]
  },
  {
   "cell_type": "code",
   "execution_count": 22,
   "metadata": {},
   "outputs": [
    {
     "name": "stdout",
     "output_type": "stream",
     "text": [
      "Python_for_machine_learning\n",
      "PythonForMachineLearning\n"
     ]
    }
   ],
   "source": [
    "s = input()\n",
    "s = s.replace(\"_\", \" \")\n",
    "s = s.title()\n",
    "s = s.replace(\" \", \"\")\n",
    "print(s)"
   ]
  },
  {
   "cell_type": "markdown",
   "metadata": {},
   "source": [
    "### Find length of a string in python "
   ]
  },
  {
   "cell_type": "code",
   "execution_count": 23,
   "metadata": {},
   "outputs": [
    {
     "name": "stdout",
     "output_type": "stream",
     "text": [
      "Find length of a string in python \n",
      "34\n"
     ]
    }
   ],
   "source": [
    "s = input()\n",
    "length = 0\n",
    "for char in s:\n",
    "    length += 1\n",
    "    \n",
    "print(length)"
   ]
  },
  {
   "cell_type": "markdown",
   "metadata": {},
   "source": [
    "### Python program to print even length words in a string"
   ]
  },
  {
   "cell_type": "code",
   "execution_count": 31,
   "metadata": {},
   "outputs": [
    {
     "name": "stdout",
     "output_type": "stream",
     "text": [
      "python is an interpreted language\n",
      "python\n",
      "is\n",
      "an\n",
      "language\n"
     ]
    }
   ],
   "source": [
    "s = list(input().split())\n",
    "for word in s:\n",
    "    if len(word)%2 == 0:\n",
    "        print(word)"
   ]
  },
  {
   "cell_type": "markdown",
   "metadata": {},
   "source": [
    "### Python program to accept the strings which contains all vowels"
   ]
  },
  {
   "cell_type": "code",
   "execution_count": 37,
   "metadata": {},
   "outputs": [
    {
     "name": "stdout",
     "output_type": "stream",
     "text": [
      "python\n",
      "Rejected\n"
     ]
    }
   ],
   "source": [
    "s = input()\n",
    "vowels = set('aeiou')\n",
    "res = set({})\n",
    "for char in s.lower():\n",
    "    if char in vowels:\n",
    "        res.add(char)\n",
    "        \n",
    "if len(vowels) == len(res):\n",
    "    print(\"Accepted\")\n",
    "else:\n",
    "    print(\"Rejected\")"
   ]
  }
 ],
 "metadata": {
  "kernelspec": {
   "display_name": "Python 3",
   "language": "python",
   "name": "python3"
  },
  "language_info": {
   "codemirror_mode": {
    "name": "ipython",
    "version": 3
   },
   "file_extension": ".py",
   "mimetype": "text/x-python",
   "name": "python",
   "nbconvert_exporter": "python",
   "pygments_lexer": "ipython3",
   "version": "3.8.3"
  }
 },
 "nbformat": 4,
 "nbformat_minor": 4
}
