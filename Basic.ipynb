{
  "nbformat": 4,
  "nbformat_minor": 0,
  "metadata": {
    "colab": {
      "name": "Practice.ipynb",
      "provenance": [],
      "collapsed_sections": []
    },
    "kernelspec": {
      "name": "python3",
      "display_name": "Python 3"
    },
    "language_info": {
      "name": "python"
    }
  },
  "cells": [
    {
      "cell_type": "markdown",
      "source": [
        "Python Program for factorial of a number"
      ],
      "metadata": {
        "id": "HwTw5npHqmGB"
      }
    },
    {
      "cell_type": "code",
      "execution_count": null,
      "metadata": {
        "colab": {
          "base_uri": "https://localhost:8080/"
        },
        "id": "k7R7rjw7iorj",
        "outputId": "12dfb943-48d0-45b3-e17d-3d84d09ae38b"
      },
      "outputs": [
        {
          "output_type": "stream",
          "name": "stdout",
          "text": [
            "Enter the number to find factorial: -3\n",
            "Factorial of -3 is 0\n"
          ]
        }
      ],
      "source": [
        "# ITERATIVR\n",
        "\n",
        "def factorial(n):\n",
        "  if n < 0:\n",
        "    return 0\n",
        "  elif n==0 or n==1:\n",
        "    return 1\n",
        "  else:\n",
        "    fact = 1\n",
        "    while(n>1):\n",
        "      fact = fact*n\n",
        "      n = n-1\n",
        "    return fact\n",
        "\n",
        "\n",
        "num = int(input(\"Enter the number to find factorial: \"))\n",
        "fact = factorial(num)\n",
        "print(f'Factorial of {num} is {fact}')"
      ]
    },
    {
      "cell_type": "code",
      "source": [
        "# RECURSIVE\n",
        "\n",
        "def factorial(n):\n",
        "  return 1 if (n==1 or n==0) else (n*factorial(n-1))\n",
        "\n",
        "\n",
        "num = int(input(\"Enter the number to find the factorial: \"))\n",
        "fact = factorial(num)\n",
        "print(f'Factorial of {num} is {fact}')"
      ],
      "metadata": {
        "colab": {
          "base_uri": "https://localhost:8080/"
        },
        "id": "3btf7Vo7j6H3",
        "outputId": "6a1b994d-eb7a-4fd5-e81e-f0e6b7766116"
      },
      "execution_count": null,
      "outputs": [
        {
          "output_type": "stream",
          "name": "stdout",
          "text": [
            "Enter the number to find the factorial: 4\n",
            "Factorial of 4 is 24\n"
          ]
        }
      ]
    },
    {
      "cell_type": "code",
      "source": [
        "# USING LIBRARY FUNCTION\n",
        "\n",
        "import math\n",
        "\n",
        "def factorial(n):\n",
        "  return(math.factorial(n))\n",
        "\n",
        "num = int(input(\"Enter the number to find the factorial: \"))\n",
        "fact = factorial(num)\n",
        "print(f'Factorial of {num} is {fact}')"
      ],
      "metadata": {
        "colab": {
          "base_uri": "https://localhost:8080/"
        },
        "id": "6TJscQXWmLYN",
        "outputId": "18724a80-1c4e-400b-c3d5-8f21fbba334a"
      },
      "execution_count": null,
      "outputs": [
        {
          "output_type": "stream",
          "name": "stdout",
          "text": [
            "Enter the number to find the factorial: 4\n",
            "Factorial of 4 is 24\n"
          ]
        }
      ]
    },
    {
      "cell_type": "markdown",
      "source": [
        "Python Program for simple interest"
      ],
      "metadata": {
        "id": "wrKcFl8zq6tX"
      }
    },
    {
      "cell_type": "code",
      "source": [
        "# Python Program for simple interest\n",
        "\n",
        "def simple_interest(p, t, r):\n",
        "  si = (p*t*r)/100\n",
        "  return si\n",
        "\n",
        "p = float(input(\"Enter the principal amount: \"))\n",
        "t = float(input(\"Enter the time period: \"))\n",
        "r = float(input(\"Enter the rate of interest: \"))\n",
        "si = simple_interest(p,t,r)\n",
        "print(f'Simple interest is {si}')"
      ],
      "metadata": {
        "colab": {
          "base_uri": "https://localhost:8080/"
        },
        "id": "LTJcmJFHmsyY",
        "outputId": "56379c76-baf7-458d-a2df-93c5a09b995f"
      },
      "execution_count": null,
      "outputs": [
        {
          "output_type": "stream",
          "name": "stdout",
          "text": [
            "Enter the principal amount: 10000\n",
            "Enter the time period: 5\n",
            "Enter the rate of interest: 5\n",
            "Simple interest is 2500.0\n"
          ]
        }
      ]
    },
    {
      "cell_type": "markdown",
      "source": [
        "Python Program for compound interest"
      ],
      "metadata": {
        "id": "aEv7isVgrNMy"
      }
    },
    {
      "cell_type": "code",
      "source": [
        "# Formula to calculate compound interest annually is given by: \n",
        "# A = P(1 + R/100)^t \n",
        "# Compound Interest = A – P "
      ],
      "metadata": {
        "id": "vP4mJTj7nvYc"
      },
      "execution_count": null,
      "outputs": []
    },
    {
      "cell_type": "code",
      "source": [
        "def compound_interest(p, t, r):\n",
        "  A = p * (1 + (r/100))**t\n",
        "  ci = A - p\n",
        "  return ci\n",
        "\n",
        "p = float(input(\"Enter the principal amount: \"))\n",
        "t = float(input(\"Enter the time period: \"))\n",
        "r = float(input(\"Enter the rate of interest: \"))\n",
        "ci = compound_interest(p,t,r)\n",
        "print(f'Compound interest is {ci}')"
      ],
      "metadata": {
        "colab": {
          "base_uri": "https://localhost:8080/"
        },
        "id": "w1huTE4DmX8B",
        "outputId": "0c54b9b6-b815-4999-a860-3107d9cc3291"
      },
      "execution_count": null,
      "outputs": [
        {
          "output_type": "stream",
          "name": "stdout",
          "text": [
            "Enter the principal amount: 10000\n",
            "Enter the time period: 5\n",
            "Enter the rate of interest: 5\n",
            "Compound interest is 2762.815625000003\n"
          ]
        }
      ]
    },
    {
      "cell_type": "code",
      "source": [
        "# using power function\n",
        "\n",
        "def compound_interest(p, t, r):\n",
        "  A = p * pow(1+(r/100), t)         #A = p * (1 + (r/100))**t\n",
        "  ci = A - p\n",
        "  return ci\n",
        "\n",
        "p = float(input(\"Enter the principal amount: \"))\n",
        "t = float(input(\"Enter the time period: \"))\n",
        "r = float(input(\"Enter the rate of interest: \"))\n",
        "ci = compound_interest(p,t,r)\n",
        "print('Compound interest is {:.2f}'.format(ci))"
      ],
      "metadata": {
        "colab": {
          "base_uri": "https://localhost:8080/"
        },
        "id": "nGtY6MJipIr2",
        "outputId": "db001be8-9c1c-431b-cfd1-33a10cede2de"
      },
      "execution_count": null,
      "outputs": [
        {
          "output_type": "stream",
          "name": "stdout",
          "text": [
            "Enter the principal amount: 10000\n",
            "Enter the time period: 5\n",
            "Enter the rate of interest: 5\n",
            "Compound interest is 2762.82\n"
          ]
        }
      ]
    },
    {
      "cell_type": "markdown",
      "source": [
        "Python Program to check Armstrong Number"
      ],
      "metadata": {
        "id": "IiD-dg6ZHZQj"
      }
    },
    {
      "cell_type": "code",
      "source": [
        "# 153 - 1^3 + 5^3 + 3^3\n",
        "#      = 1+125+27 = 153\n",
        "\n",
        "from math import pow\n",
        "\n",
        "def is_armstrong(num):\n",
        "  length = len(num)\n",
        "  a = int(num)\n",
        "  num = int(num)\n",
        "  armstrong = 0\n",
        "  while a > 0:\n",
        "     rem = a % 10\n",
        "     armstrong = armstrong + pow(rem,length)\n",
        "     a = a // 10                 # integer division\n",
        "  return (armstrong == num)\n",
        "\n",
        "num = input(\"Enter a number: \")\n",
        "ans = is_armstrong(num)\n",
        "if ans==1:\n",
        "  print(\"Yes\") \n",
        "else:\n",
        "  print(\"No\")"
      ],
      "metadata": {
        "colab": {
          "base_uri": "https://localhost:8080/"
        },
        "id": "LCipPAN5Hhfq",
        "outputId": "8c2f9174-30f6-408b-bb81-5ee5e328cf9c"
      },
      "execution_count": null,
      "outputs": [
        {
          "output_type": "stream",
          "name": "stdout",
          "text": [
            "Enter a number: 120\n",
            "No\n"
          ]
        }
      ]
    },
    {
      "cell_type": "markdown",
      "source": [
        "Python Program for Program to find area of a circle"
      ],
      "metadata": {
        "id": "23k_A9hwL804"
      }
    },
    {
      "cell_type": "code",
      "source": [
        "from math import pi\n",
        "\n",
        "r = float(input(\"Enter radius of circle: \"))\n",
        "area = pi*r*r\n",
        "print(f\"Area of circle is {area:.3f}\")"
      ],
      "metadata": {
        "colab": {
          "base_uri": "https://localhost:8080/"
        },
        "id": "2FrkEdqfMCY-",
        "outputId": "a0b7d526-38e2-4462-e929-08c61c98091b"
      },
      "execution_count": null,
      "outputs": [
        {
          "output_type": "stream",
          "name": "stdout",
          "text": [
            "Enter radius of circle: 2.5\n",
            "Area of circle is 19.635\n"
          ]
        }
      ]
    },
    {
      "cell_type": "markdown",
      "source": [
        "Python program to print all Prime numbers in an Interval"
      ],
      "metadata": {
        "id": "fSDEY8JmNRVI"
      }
    },
    {
      "cell_type": "code",
      "source": [
        "def is_prime(x):\n",
        "  if x==0 or x==1:\n",
        "    return False\n",
        "  for j in range(2, x//2+1):\n",
        "    if x%j == 0:\n",
        "      return False\n",
        "  return True\n",
        "\n",
        "start = int(input(\"Enter the starting: \"))\n",
        "end = int(input(\"Enter the ending: \"))\n",
        "l = [i for i in range(start, end+1) if is_prime(i)==True]\n",
        "print(f\"Prime numbers between interval {start} to {end} are:\\n {l}\") "
      ],
      "metadata": {
        "colab": {
          "base_uri": "https://localhost:8080/"
        },
        "id": "CDACf1QdNSA9",
        "outputId": "27cfbdab-098e-4388-f399-4cc6b0503e4e"
      },
      "execution_count": null,
      "outputs": [
        {
          "output_type": "stream",
          "name": "stdout",
          "text": [
            "Enter the starting: 0\n",
            "Enter the ending: 1\n",
            "Prime numbers between interval 0 to 1 are:\n",
            " []\n"
          ]
        }
      ]
    },
    {
      "cell_type": "markdown",
      "source": [
        "Python program to check whether a number is Prime or not"
      ],
      "metadata": {
        "id": "qz91vpxrQXhZ"
      }
    },
    {
      "cell_type": "code",
      "source": [
        "def is_prime(x):\n",
        "  if x==0 or x==1:\n",
        "    return False\n",
        "  for j in range(2, int(x/2+1)):       # Checking upto num/2            \n",
        "    if x%j == 0:\n",
        "      return False\n",
        "  return True\n",
        "\n",
        "num = int(input(\"Enter a number: \"))\n",
        "prime = is_prime(num)\n",
        "if prime==True:\n",
        "  print(\"It is a prime number\")\n",
        "else:\n",
        "  print(\"It is not a prime number\")"
      ],
      "metadata": {
        "colab": {
          "base_uri": "https://localhost:8080/"
        },
        "id": "mpzMyyL5QYgQ",
        "outputId": "df0900be-7dd4-4d35-b239-1e24eee93bd9"
      },
      "execution_count": null,
      "outputs": [
        {
          "output_type": "stream",
          "name": "stdout",
          "text": [
            "Enter a number: 15\n",
            "It is not a prime number\n"
          ]
        }
      ]
    },
    {
      "cell_type": "code",
      "source": [
        "from math import sqrt\n",
        "\n",
        "def is_prime(x):\n",
        "  if x==0 or x==1:\n",
        "    return False\n",
        "  for j in range(2, int(sqrt(x))+1):       # Checking upto sqrt(num)           \n",
        "    if x%j == 0:\n",
        "      return False\n",
        "  return True\n",
        "\n",
        "num = int(input(\"Enter a number: \"))\n",
        "prime = is_prime(num)\n",
        "if prime==True:\n",
        "  print(\"It is a prime number\")\n",
        "else:\n",
        "  print(\"It is not a prime number\")"
      ],
      "metadata": {
        "colab": {
          "base_uri": "https://localhost:8080/"
        },
        "id": "pQzGny5uRdDZ",
        "outputId": "aeb855dc-fbee-493f-a063-da8cf8e3d561"
      },
      "execution_count": null,
      "outputs": [
        {
          "output_type": "stream",
          "name": "stdout",
          "text": [
            "Enter a number: 45\n",
            "It is not a prime number\n"
          ]
        }
      ]
    },
    {
      "cell_type": "markdown",
      "source": [
        "Python Program for n-th Fibonacci number"
      ],
      "metadata": {
        "id": "Kc_77ueUNzWd"
      }
    },
    {
      "cell_type": "code",
      "source": [
        "# Fibonacci sequence : 0,1,1,2,3,5,8,13,21,34\n",
        "\n",
        "def fibonacci(n):\n",
        "  if n<=0:\n",
        "    print(\"Invalid input\")\n",
        "  if n==1:\n",
        "    return 0\n",
        "  elif n==2:\n",
        "    return 1\n",
        "  else:\n",
        "    return fibonacci(n-1) + fibonacci(n-2)\n",
        "\n",
        "print(fibonacci(4))"
      ],
      "metadata": {
        "colab": {
          "base_uri": "https://localhost:8080/"
        },
        "id": "_hYW4r20N1gp",
        "outputId": "47fc000c-b366-45f3-8752-7e4819f7c464"
      },
      "execution_count": null,
      "outputs": [
        {
          "output_type": "stream",
          "name": "stdout",
          "text": [
            "2\n"
          ]
        }
      ]
    },
    {
      "cell_type": "markdown",
      "source": [
        "Python Program for n\\’th multiple of a number in Fibonacci Series"
      ],
      "metadata": {
        "id": "1l-7Bm4sTGXW"
      }
    },
    {
      "cell_type": "code",
      "source": [
        "def multiple_index(k, n):\n",
        "  f1=0\n",
        "  f2=1\n",
        "  i=2\n",
        "  while i!=0:\n",
        "    f3 = f1+f2\n",
        "    f1=f2\n",
        "    f2=f3\n",
        "\n",
        "    if f2 % k == 0:\n",
        "      return n*i\n",
        "    \n",
        "    i += 1\n",
        "\n",
        "  return\n",
        "\n",
        "k = int(input(\"Enter value of k: \"))\n",
        "n = int(input(\"Enter value of n: \"))\n",
        "index = multiple_index(k, n)\n",
        "fib = fibonacci(index+1)            \n",
        "#index+1 because in fibonacci function, series is starting from 0\n",
        "print(f\"Position of {n}th multiple of {k} in fibonacci series is {index} and the multiple is {fib}.\")"
      ],
      "metadata": {
        "colab": {
          "base_uri": "https://localhost:8080/"
        },
        "id": "ndyfAQktM5YF",
        "outputId": "4d00db49-4f9d-4ca9-c26d-33d70945412c"
      },
      "execution_count": null,
      "outputs": [
        {
          "output_type": "stream",
          "name": "stdout",
          "text": [
            "Enter value of k: 2\n",
            "Enter value of n: 3\n",
            "Position of 3th multiple of 2 in fibonacci series is 9 and the multiple is 34.\n"
          ]
        }
      ]
    },
    {
      "cell_type": "markdown",
      "source": [
        "Program to print ASCII Value of a character"
      ],
      "metadata": {
        "id": "A6AvWoifSMjH"
      }
    },
    {
      "cell_type": "code",
      "source": [
        "#In python there is a function - ord(char) which gives the ASCII value of given character\n",
        "\n",
        "char = input(\"Enter a character: \")\n",
        "print(f\"ASCII value of {char} is {ord(char)}\")"
      ],
      "metadata": {
        "colab": {
          "base_uri": "https://localhost:8080/"
        },
        "id": "Q7LPlmHISPsY",
        "outputId": "b78e8f73-a59d-462c-d65d-2da0c0bf5a2d"
      },
      "execution_count": null,
      "outputs": [
        {
          "output_type": "stream",
          "name": "stdout",
          "text": [
            "Enter a character: A\n",
            "ASCII value of A is 65\n"
          ]
        }
      ]
    },
    {
      "cell_type": "markdown",
      "source": [
        "Print the ASCII value of the characters in a string using python:"
      ],
      "metadata": {
        "id": "pQwyDM2SSxLh"
      }
    },
    {
      "cell_type": "code",
      "source": [
        "text = input(\"Enter a string: \")\n",
        "for c in text:\n",
        "  print(f\"{c}: {ord(c)}\")"
      ],
      "metadata": {
        "colab": {
          "base_uri": "https://localhost:8080/"
        },
        "id": "AXWxXwhAS0Zx",
        "outputId": "ec4143ed-bf81-496c-c296-302b6d0134bf"
      },
      "execution_count": null,
      "outputs": [
        {
          "output_type": "stream",
          "name": "stdout",
          "text": [
            "Enter a string: Nandani\n",
            "N: 78\n",
            "a: 97\n",
            "n: 110\n",
            "d: 100\n",
            "a: 97\n",
            "n: 110\n",
            "i: 105\n"
          ]
        }
      ]
    },
    {
      "cell_type": "markdown",
      "source": [
        "Python Program for Sum of squares of first n natural numbers"
      ],
      "metadata": {
        "id": "NeErENzxmu89"
      }
    },
    {
      "cell_type": "code",
      "source": [
        "# Method 1 - Naive method\n",
        "\n",
        "def sum_of_squares(n):\n",
        "  l = []\n",
        "  while n >=1:\n",
        "    l.append(n**2)\n",
        "    n -= 1\n",
        "\n",
        "  return sum(l)\n",
        "\n",
        "n = int(input())\n",
        "print(sum_of_squares(n))"
      ],
      "metadata": {
        "id": "xc9e6hjUSsrw",
        "colab": {
          "base_uri": "https://localhost:8080/"
        },
        "outputId": "94bffd6c-142e-4bc9-d373-b1ac3883facd"
      },
      "execution_count": null,
      "outputs": [
        {
          "output_type": "stream",
          "name": "stdout",
          "text": [
            "5\n",
            "55\n"
          ]
        }
      ]
    },
    {
      "cell_type": "code",
      "source": [
        "# Method 2 - Using formula\n",
        "# sum_of_squares(n) = (n * (n+1) * (2*n+1)) / 6\n",
        "\n",
        "n = int(input())\n",
        "sum_of_squares = (n * (n+1) * (2*n+1)) / 6\n",
        "print(int(sum_of_squares))"
      ],
      "metadata": {
        "id": "jA9fp73pSN5a",
        "colab": {
          "base_uri": "https://localhost:8080/"
        },
        "outputId": "cda5958f-3252-4164-d2ab-23d95efff43c"
      },
      "execution_count": null,
      "outputs": [
        {
          "output_type": "stream",
          "name": "stdout",
          "text": [
            "5\n",
            "55\n"
          ]
        }
      ]
    },
    {
      "cell_type": "markdown",
      "source": [
        "Python Program for cube sum of first n natural numbers"
      ],
      "metadata": {
        "id": "tN0jbK2TogdZ"
      }
    },
    {
      "cell_type": "code",
      "source": [
        "# Method 1 - Naive method\n",
        "\n",
        "def sum_of_cubes(n):\n",
        "  l = []\n",
        "  while n >=1:\n",
        "    l.append(n**3)\n",
        "    n -= 1\n",
        "\n",
        "  return sum(l)\n",
        "\n",
        "n = int(input())\n",
        "print(sum_of_cubes(n))"
      ],
      "metadata": {
        "colab": {
          "base_uri": "https://localhost:8080/"
        },
        "id": "gm0LclHFoiRq",
        "outputId": "b9b39bb7-ecda-4eed-ccc3-a9f537e48f57"
      },
      "execution_count": null,
      "outputs": [
        {
          "output_type": "stream",
          "name": "stdout",
          "text": [
            "5\n",
            "225\n"
          ]
        }
      ]
    },
    {
      "cell_type": "code",
      "source": [
        "# Method 2 - Using formula\n",
        "# sum_of_cubes(n) = (n*(n+1)/2) ^2\n",
        "\n",
        "n = int(input())\n",
        "sum_of_cubes = (n*(n+1)/2)**2\n",
        "print(int(sum_of_cubes))"
      ],
      "metadata": {
        "colab": {
          "base_uri": "https://localhost:8080/"
        },
        "id": "BOQ2BhTmpEUZ",
        "outputId": "cace8f37-21e9-4d86-df3f-0075cd3b34f3"
      },
      "execution_count": null,
      "outputs": [
        {
          "output_type": "stream",
          "name": "stdout",
          "text": [
            "5\n",
            "225\n"
          ]
        }
      ]
    }
  ]
}