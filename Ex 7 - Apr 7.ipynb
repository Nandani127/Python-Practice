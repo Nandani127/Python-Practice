{
 "cells": [
  {
   "cell_type": "markdown",
   "metadata": {},
   "source": [
    "### Count the Number of matching characters in a pair of string"
   ]
  },
  {
   "cell_type": "code",
   "execution_count": 4,
   "metadata": {},
   "outputs": [
    {
     "name": "stdout",
     "output_type": "stream",
     "text": [
      "asdfg\n",
      "zxcvb\n",
      "0\n"
     ]
    }
   ],
   "source": [
    "str1 = input()\n",
    "str2 = input()\n",
    "res = []\n",
    "for char in str1:\n",
    "    if char in str2:\n",
    "        res.append(char)\n",
    "s = set(res)\n",
    "print(len(s))"
   ]
  },
  {
   "cell_type": "code",
   "execution_count": 5,
   "metadata": {
    "scrolled": true
   },
   "outputs": [
    {
     "name": "stdout",
     "output_type": "stream",
     "text": [
      "asdfg\n",
      "asedf\n",
      "4\n"
     ]
    }
   ],
   "source": [
    "str1 = input()\n",
    "str2 = input()\n",
    "res = []\n",
    "for char1 in str1:\n",
    "    for char2 in str2:\n",
    "        if char1 == char2 and char1 not in res:\n",
    "            res.append(char1)\n",
    "print(len(res))"
   ]
  },
  {
   "cell_type": "markdown",
   "metadata": {},
   "source": [
    "### Remove all duplicates from a given string in Python"
   ]
  },
  {
   "cell_type": "code",
   "execution_count": 19,
   "metadata": {},
   "outputs": [
    {
     "name": "stdout",
     "output_type": "stream",
     "text": [
      "geeksforgeeks\n",
      "oergkfs\n"
     ]
    }
   ],
   "source": [
    "# Without order\n",
    "\n",
    "s = input()\n",
    "se = set(s)\n",
    "\n",
    "print(\"\".join(se))"
   ]
  },
  {
   "cell_type": "code",
   "execution_count": 20,
   "metadata": {},
   "outputs": [
    {
     "name": "stdout",
     "output_type": "stream",
     "text": [
      "geeksforgeeks\n",
      "geksfor\n"
     ]
    }
   ],
   "source": [
    "# With order\n",
    "\n",
    "s = input()\n",
    "new = \"\"\n",
    "for char in s:\n",
    "    if char not in new:\n",
    "        new += char\n",
    "        \n",
    "print(new)"
   ]
  },
  {
   "cell_type": "markdown",
   "metadata": {},
   "source": [
    "### Least Frequent Character in String"
   ]
  },
  {
   "cell_type": "code",
   "execution_count": 4,
   "metadata": {
    "scrolled": true
   },
   "outputs": [
    {
     "name": "stdout",
     "output_type": "stream",
     "text": [
      "hello world\n",
      "Least freuent characters:  ['d', 'w', 'h', ' ', 'e', 'r']\n",
      "Their Freuency  1\n"
     ]
    }
   ],
   "source": [
    "def min_count(l):\n",
    "    vote = []\n",
    "    count = []\n",
    "    for i in l:\n",
    "        vote.append(i)\n",
    "        count.append(l.count(i))\n",
    "        \n",
    "    mini = min(count)\n",
    "    new = []\n",
    "    for i in range(len(count)):\n",
    "        if count[i] == mini:\n",
    "            new.append(vote[i])\n",
    "    s = list(set(new))\n",
    "    return s, mini\n",
    "\n",
    "s = input()\n",
    "letters, freuency = min_count(s)\n",
    "print(\"Least freuent characters: \", letters)\n",
    "print(\"Their Freuency \", freuency)"
   ]
  },
  {
   "cell_type": "code",
   "execution_count": 9,
   "metadata": {},
   "outputs": [
    {
     "name": "stdout",
     "output_type": "stream",
     "text": [
      "hello world\n",
      "['h', 'e', ' ', 'w', 'r', 'd']\n"
     ]
    }
   ],
   "source": [
    "# Using dictionary\n",
    "\n",
    "s = input()\n",
    "d = {}\n",
    "for char in s:\n",
    "    if char in d.keys():\n",
    "        d[char] += 1\n",
    "    else:\n",
    "        d[char] = 1\n",
    "\n",
    "mini = min(d.values())\n",
    "res= []\n",
    "for k in d.keys():\n",
    "    if d[k] == mini:\n",
    "        res.append(k)\n",
    "print(res)"
   ]
  },
  {
   "cell_type": "markdown",
   "metadata": {},
   "source": [
    "### Maximum frequency character in String"
   ]
  },
  {
   "cell_type": "code",
   "execution_count": 5,
   "metadata": {},
   "outputs": [
    {
     "name": "stdout",
     "output_type": "stream",
     "text": [
      "hello world\n",
      "['l']\n",
      "3\n"
     ]
    }
   ],
   "source": [
    "def max_fre(l):\n",
    "    vote = []\n",
    "    count = []\n",
    "    for i in l:\n",
    "        vote.append(i)\n",
    "        count.append(l.count(i))\n",
    "        \n",
    "    maxi = max(count)\n",
    "    new = []\n",
    "    for i in range(len(count)):\n",
    "        if count[i] == maxi:\n",
    "            new.append(vote[i])\n",
    "    s = list(set(new))\n",
    "    return s, maxi\n",
    "\n",
    "s = input()\n",
    "char, freuency = max_fre(s)\n",
    "print(char)\n",
    "print(freuency)"
   ]
  },
  {
   "cell_type": "code",
   "execution_count": 10,
   "metadata": {},
   "outputs": [
    {
     "name": "stdout",
     "output_type": "stream",
     "text": [
      "hello world\n",
      "['l']\n"
     ]
    }
   ],
   "source": [
    "# Using dictionary\n",
    "\n",
    "s = input()\n",
    "d = {}\n",
    "for char in s:\n",
    "    if char in d.keys():\n",
    "        d[char] += 1\n",
    "    else:\n",
    "        d[char] = 1\n",
    "\n",
    "maxi = max(d.values())\n",
    "res= []\n",
    "for k in d.keys():\n",
    "    if d[k] == maxi:\n",
    "        res.append(k)\n",
    "print(res)"
   ]
  },
  {
   "cell_type": "markdown",
   "metadata": {},
   "source": [
    "### Program to check if a string contains any special character"
   ]
  },
  {
   "cell_type": "code",
   "execution_count": 7,
   "metadata": {},
   "outputs": [
    {
     "name": "stdout",
     "output_type": "stream",
     "text": [
      "abc@123\n",
      "String Rejected\n"
     ]
    }
   ],
   "source": [
    "s = input()\n",
    "special_char = ['@','_','!','#','$','%','^','&','*','(',')','<','>','?','/','\\\\','|','}','{','~',':']\n",
    "\n",
    "for char in s:\n",
    "    if char in special_char:\n",
    "        print(\"String Rejected\")\n",
    "        break\n",
    "else:\n",
    "    print(\"String Accepted\")"
   ]
  },
  {
   "cell_type": "markdown",
   "metadata": {},
   "source": [
    "### Find words which are greater than given length k"
   ]
  },
  {
   "cell_type": "code",
   "execution_count": 11,
   "metadata": {},
   "outputs": [
    {
     "name": "stdout",
     "output_type": "stream",
     "text": [
      "string is fun in python\n",
      "3\n",
      "string python\n"
     ]
    }
   ],
   "source": [
    "s = list(input().split())\n",
    "k = int(input())\n",
    "words = []\n",
    "for word in s:\n",
    "    if len(word) > k:\n",
    "        words.append(word)\n",
    "        \n",
    "print(\" \".join(words))"
   ]
  },
  {
   "cell_type": "markdown",
   "metadata": {},
   "source": [
    "### Python program for removing i-th character from a string"
   ]
  },
  {
   "cell_type": "code",
   "execution_count": 15,
   "metadata": {},
   "outputs": [
    {
     "name": "stdout",
     "output_type": "stream",
     "text": [
      "python\n",
      "2\n",
      "pyhon\n"
     ]
    }
   ],
   "source": [
    "def remove(s, i):\n",
    "    new = \"\"\n",
    "    if i > len(s)-1:\n",
    "        return\n",
    "    for j in range(len(s)):\n",
    "        if j == i:\n",
    "            pass\n",
    "        else:\n",
    "            new += s[j]\n",
    "    return new\n",
    "\n",
    "s = input()\n",
    "i = int(input())\n",
    "print(remove(s, i))"
   ]
  },
  {
   "cell_type": "markdown",
   "metadata": {},
   "source": [
    "### Python program to split and join a string"
   ]
  },
  {
   "cell_type": "code",
   "execution_count": 16,
   "metadata": {},
   "outputs": [
    {
     "name": "stdout",
     "output_type": "stream",
     "text": [
      "Nandani 127\n",
      "['Nandani', '127']\n",
      "Nandani@127\n"
     ]
    }
   ],
   "source": [
    "s = input()\n",
    "\n",
    "# split\n",
    "l = s.split(\" \")       # split by space\n",
    "print(l)\n",
    "\n",
    "# join\n",
    "x = \"@\".join(l)           # Join by @\n",
    "print(x)"
   ]
  },
  {
   "cell_type": "markdown",
   "metadata": {},
   "source": [
    "### Check if a given string is binary string or not"
   ]
  },
  {
   "cell_type": "code",
   "execution_count": 25,
   "metadata": {},
   "outputs": [
    {
     "name": "stdout",
     "output_type": "stream",
     "text": [
      "0010\n",
      "Accepted\n"
     ]
    }
   ],
   "source": [
    "s = input()\n",
    "count = 0\n",
    "for char in s:\n",
    "    if char == \"0\" or char == '1':\n",
    "        count = 1\n",
    "    else:\n",
    "        count = 0\n",
    "        break\n",
    "if count == 0:\n",
    "    print(\"Not accepted\")\n",
    "else:\n",
    "    print(\"Accepted\")"
   ]
  },
  {
   "cell_type": "code",
   "execution_count": 29,
   "metadata": {},
   "outputs": [
    {
     "name": "stdout",
     "output_type": "stream",
     "text": [
      "00101\n",
      "Accepted\n"
     ]
    }
   ],
   "source": [
    "x = set(input())\n",
    "\n",
    "s = {\"0\", \"1\"}\n",
    "if x == s or x == {\"1\"} or x == {\"0\"}:\n",
    "    print(\"Accepted\")\n",
    "else:\n",
    "    print(\"Not accepted\")"
   ]
  }
 ],
 "metadata": {
  "kernelspec": {
   "display_name": "Python 3",
   "language": "python",
   "name": "python3"
  },
  "language_info": {
   "codemirror_mode": {
    "name": "ipython",
    "version": 3
   },
   "file_extension": ".py",
   "mimetype": "text/x-python",
   "name": "python",
   "nbconvert_exporter": "python",
   "pygments_lexer": "ipython3",
   "version": "3.8.3"
  }
 },
 "nbformat": 4,
 "nbformat_minor": 4
}
