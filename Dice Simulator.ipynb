{
 "cells": [
  {
   "cell_type": "markdown",
   "metadata": {},
   "source": [
    "Create a classic rolling dice simulator with the help of basic Python knowledge i.e. loops and conditions. "
   ]
  },
  {
   "cell_type": "code",
   "execution_count": 28,
   "metadata": {},
   "outputs": [
    {
     "name": "stdout",
     "output_type": "stream",
     "text": [
      "This is a Dice Simulator\n",
      "|-------|\n",
      "|  0 0  |\n",
      "|  0 0  |\n",
      "|  0 0  |\n",
      "|-------|\n",
      "Want to roll again? (y/n) : y\n",
      "|-------|\n",
      "|       |\n",
      "|  0 0  |\n",
      "|       |\n",
      "|-------|\n",
      "Want to roll again? (y/n) : y\n",
      "|-------|\n",
      "| 0   0 |\n",
      "|       |\n",
      "| 0   0 |\n",
      "|-------|\n",
      "Want to roll again? (y/n) : y\n",
      "|-------|\n",
      "|       |\n",
      "|  0 0  |\n",
      "|       |\n",
      "|-------|\n",
      "Want to roll again? (y/n) : n\n"
     ]
    }
   ],
   "source": [
    "# importing library to generate random number\n",
    "import random                   \n",
    "\n",
    "choice = 'y';\n",
    "print(\"This is a Dice Simulator\")\n",
    "\n",
    "# looping the system\n",
    "while choice == 'y':        \n",
    "    \n",
    "    # generating a random integer number\n",
    "    # between 1 and 6 (including both 1 and 6)\n",
    "    n = random.randint(1,6)\n",
    "    \n",
    "    # conditions for printing the face of the dice\n",
    "    if n == 1:\n",
    "        print('''|-------|\n",
    "|       |\n",
    "|   0   |\n",
    "|       |\n",
    "|-------|''')\n",
    "    \n",
    "    elif n == 2:\n",
    "        print('''|-------|\n",
    "|       |\n",
    "|  0 0  |\n",
    "|       |\n",
    "|-------|''')\n",
    "    \n",
    "    elif n == 3:\n",
    "        print('''|-------|\n",
    "|   0   |\n",
    "|   0   |\n",
    "|   0   |\n",
    "|-------|''')\n",
    "    \n",
    "    elif n == 4:\n",
    "        print('''|-------|\n",
    "| 0   0 |\n",
    "|       |\n",
    "| 0   0 |\n",
    "|-------|''')\n",
    "    \n",
    "    elif n == 5:\n",
    "        print('''|-------|\n",
    "| 0   0 |\n",
    "|   0   |\n",
    "| 0   0 |\n",
    "|-------|''')\n",
    "    \n",
    "    elif n == 6:\n",
    "        print('''|-------|\n",
    "|  0 0  |\n",
    "|  0 0  |\n",
    "|  0 0  |\n",
    "|-------|''')\n",
    "    \n",
    "    # exit criteria of the loop ( y to continue / n to exit)\n",
    "    choice = input(\"Want to roll again? (y/n) : \")"
   ]
  },
  {
   "cell_type": "code",
   "execution_count": null,
   "metadata": {},
   "outputs": [],
   "source": []
  }
 ],
 "metadata": {
  "kernelspec": {
   "display_name": "Python 3",
   "language": "python",
   "name": "python3"
  },
  "language_info": {
   "codemirror_mode": {
    "name": "ipython",
    "version": 3
   },
   "file_extension": ".py",
   "mimetype": "text/x-python",
   "name": "python",
   "nbconvert_exporter": "python",
   "pygments_lexer": "ipython3",
   "version": "3.8.3"
  }
 },
 "nbformat": 4,
 "nbformat_minor": 4
}
